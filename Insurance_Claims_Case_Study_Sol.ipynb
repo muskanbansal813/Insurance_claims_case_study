{
 "cells": [
  {
   "cell_type": "markdown",
   "id": "a9d06f24",
   "metadata": {},
   "source": [
    "## Insurance_Case_Study"
   ]
  },
  {
   "cell_type": "code",
   "execution_count": 1,
   "id": "d84f6a92",
   "metadata": {},
   "outputs": [],
   "source": [
    "#import the libraries\n",
    "\n",
    "import os\n",
    "import pandas as pd\n",
    "import numpy as np\n",
    "\n",
    "import matplotlib.pyplot as plt\n",
    "%matplotlib inline \n",
    "import seaborn as sns\n",
    "\n",
    "import warnings\n",
    "warnings.filterwarnings(\"ignore\")"
   ]
  },
  {
   "cell_type": "markdown",
   "id": "20c99b49",
   "metadata": {},
   "source": [
    "### 1. Import claims_data.csv and cust_data.csv which is provided to you and combine the two datasets appropriately to create a 360-degree view of the data. Use the same for the subsequent questions."
   ]
  },
  {
   "cell_type": "code",
   "execution_count": 2,
   "id": "85e88960",
   "metadata": {},
   "outputs": [],
   "source": [
    "os.chdir('C:\\\\Users\\\\DELL\\\\Downloads\\\\Python Notebook\\\\Case Study 3 - Insurance Claims Case Study')"
   ]
  },
  {
   "cell_type": "code",
   "execution_count": 3,
   "id": "53152ad9",
   "metadata": {},
   "outputs": [],
   "source": [
    "claims = pd.read_csv('claims.csv')"
   ]
  },
  {
   "cell_type": "code",
   "execution_count": 4,
   "id": "97472ace",
   "metadata": {},
   "outputs": [],
   "source": [
    "cust_data = pd.read_csv('cust_demographics.csv')"
   ]
  },
  {
   "cell_type": "code",
   "execution_count": 5,
   "id": "676b075f",
   "metadata": {},
   "outputs": [
    {
     "data": {
      "text/html": [
       "<div>\n",
       "<style scoped>\n",
       "    .dataframe tbody tr th:only-of-type {\n",
       "        vertical-align: middle;\n",
       "    }\n",
       "\n",
       "    .dataframe tbody tr th {\n",
       "        vertical-align: top;\n",
       "    }\n",
       "\n",
       "    .dataframe thead th {\n",
       "        text-align: right;\n",
       "    }\n",
       "</style>\n",
       "<table border=\"1\" class=\"dataframe\">\n",
       "  <thead>\n",
       "    <tr style=\"text-align: right;\">\n",
       "      <th></th>\n",
       "      <th>claim_id</th>\n",
       "      <th>customer_id</th>\n",
       "      <th>incident_cause</th>\n",
       "      <th>claim_date</th>\n",
       "      <th>claim_area</th>\n",
       "      <th>police_report</th>\n",
       "      <th>claim_type</th>\n",
       "      <th>claim_amount</th>\n",
       "      <th>total_policy_claims</th>\n",
       "      <th>fraudulent</th>\n",
       "    </tr>\n",
       "  </thead>\n",
       "  <tbody>\n",
       "    <tr>\n",
       "      <th>0</th>\n",
       "      <td>54004764</td>\n",
       "      <td>21868593</td>\n",
       "      <td>Driver error</td>\n",
       "      <td>11/27/2017</td>\n",
       "      <td>Auto</td>\n",
       "      <td>No</td>\n",
       "      <td>Material only</td>\n",
       "      <td>$2980</td>\n",
       "      <td>1.0</td>\n",
       "      <td>No</td>\n",
       "    </tr>\n",
       "    <tr>\n",
       "      <th>1</th>\n",
       "      <td>33985796</td>\n",
       "      <td>75740424</td>\n",
       "      <td>Crime</td>\n",
       "      <td>10/03/2018</td>\n",
       "      <td>Home</td>\n",
       "      <td>Unknown</td>\n",
       "      <td>Material only</td>\n",
       "      <td>$2980</td>\n",
       "      <td>3.0</td>\n",
       "      <td>No</td>\n",
       "    </tr>\n",
       "  </tbody>\n",
       "</table>\n",
       "</div>"
      ],
      "text/plain": [
       "   claim_id  customer_id incident_cause  claim_date claim_area police_report  \\\n",
       "0  54004764     21868593   Driver error  11/27/2017       Auto            No   \n",
       "1  33985796     75740424          Crime  10/03/2018       Home       Unknown   \n",
       "\n",
       "      claim_type claim_amount  total_policy_claims fraudulent  \n",
       "0  Material only        $2980                  1.0         No  \n",
       "1  Material only        $2980                  3.0         No  "
      ]
     },
     "execution_count": 5,
     "metadata": {},
     "output_type": "execute_result"
    }
   ],
   "source": [
    "claims.head(2)"
   ]
  },
  {
   "cell_type": "code",
   "execution_count": 6,
   "id": "db5641fb",
   "metadata": {},
   "outputs": [
    {
     "data": {
      "text/html": [
       "<div>\n",
       "<style scoped>\n",
       "    .dataframe tbody tr th:only-of-type {\n",
       "        vertical-align: middle;\n",
       "    }\n",
       "\n",
       "    .dataframe tbody tr th {\n",
       "        vertical-align: top;\n",
       "    }\n",
       "\n",
       "    .dataframe thead th {\n",
       "        text-align: right;\n",
       "    }\n",
       "</style>\n",
       "<table border=\"1\" class=\"dataframe\">\n",
       "  <thead>\n",
       "    <tr style=\"text-align: right;\">\n",
       "      <th></th>\n",
       "      <th>CUST_ID</th>\n",
       "      <th>gender</th>\n",
       "      <th>DateOfBirth</th>\n",
       "      <th>State</th>\n",
       "      <th>Contact</th>\n",
       "      <th>Segment</th>\n",
       "    </tr>\n",
       "  </thead>\n",
       "  <tbody>\n",
       "    <tr>\n",
       "      <th>0</th>\n",
       "      <td>21868593</td>\n",
       "      <td>Female</td>\n",
       "      <td>12-Jan-79</td>\n",
       "      <td>VT</td>\n",
       "      <td>789-916-8172</td>\n",
       "      <td>Platinum</td>\n",
       "    </tr>\n",
       "    <tr>\n",
       "      <th>1</th>\n",
       "      <td>75740424</td>\n",
       "      <td>Female</td>\n",
       "      <td>13-Jan-70</td>\n",
       "      <td>ME</td>\n",
       "      <td>265-543-1264</td>\n",
       "      <td>Silver</td>\n",
       "    </tr>\n",
       "  </tbody>\n",
       "</table>\n",
       "</div>"
      ],
      "text/plain": [
       "    CUST_ID  gender DateOfBirth State       Contact   Segment\n",
       "0  21868593  Female   12-Jan-79    VT  789-916-8172  Platinum\n",
       "1  75740424  Female   13-Jan-70    ME  265-543-1264    Silver"
      ]
     },
     "execution_count": 6,
     "metadata": {},
     "output_type": "execute_result"
    }
   ],
   "source": [
    "cust_data.head(2)"
   ]
  },
  {
   "cell_type": "code",
   "execution_count": 7,
   "id": "dce4e418",
   "metadata": {},
   "outputs": [],
   "source": [
    "# Merging the above two datasets"
   ]
  },
  {
   "cell_type": "code",
   "execution_count": 8,
   "id": "037a71e9",
   "metadata": {},
   "outputs": [],
   "source": [
    "df = pd.merge(cust_data,claims,left_on='CUST_ID',right_on='customer_id',how='outer')"
   ]
  },
  {
   "cell_type": "code",
   "execution_count": 9,
   "id": "ba3cc89e",
   "metadata": {},
   "outputs": [
    {
     "data": {
      "text/html": [
       "<div>\n",
       "<style scoped>\n",
       "    .dataframe tbody tr th:only-of-type {\n",
       "        vertical-align: middle;\n",
       "    }\n",
       "\n",
       "    .dataframe tbody tr th {\n",
       "        vertical-align: top;\n",
       "    }\n",
       "\n",
       "    .dataframe thead th {\n",
       "        text-align: right;\n",
       "    }\n",
       "</style>\n",
       "<table border=\"1\" class=\"dataframe\">\n",
       "  <thead>\n",
       "    <tr style=\"text-align: right;\">\n",
       "      <th></th>\n",
       "      <th>CUST_ID</th>\n",
       "      <th>gender</th>\n",
       "      <th>DateOfBirth</th>\n",
       "      <th>State</th>\n",
       "      <th>Contact</th>\n",
       "      <th>Segment</th>\n",
       "      <th>claim_id</th>\n",
       "      <th>customer_id</th>\n",
       "      <th>incident_cause</th>\n",
       "      <th>claim_date</th>\n",
       "      <th>claim_area</th>\n",
       "      <th>police_report</th>\n",
       "      <th>claim_type</th>\n",
       "      <th>claim_amount</th>\n",
       "      <th>total_policy_claims</th>\n",
       "      <th>fraudulent</th>\n",
       "    </tr>\n",
       "  </thead>\n",
       "  <tbody>\n",
       "    <tr>\n",
       "      <th>0</th>\n",
       "      <td>21868593.0</td>\n",
       "      <td>Female</td>\n",
       "      <td>12-Jan-79</td>\n",
       "      <td>VT</td>\n",
       "      <td>789-916-8172</td>\n",
       "      <td>Platinum</td>\n",
       "      <td>54004764.0</td>\n",
       "      <td>21868593.0</td>\n",
       "      <td>Driver error</td>\n",
       "      <td>11/27/2017</td>\n",
       "      <td>Auto</td>\n",
       "      <td>No</td>\n",
       "      <td>Material only</td>\n",
       "      <td>$2980</td>\n",
       "      <td>1.0</td>\n",
       "      <td>No</td>\n",
       "    </tr>\n",
       "    <tr>\n",
       "      <th>1</th>\n",
       "      <td>75740424.0</td>\n",
       "      <td>Female</td>\n",
       "      <td>13-Jan-70</td>\n",
       "      <td>ME</td>\n",
       "      <td>265-543-1264</td>\n",
       "      <td>Silver</td>\n",
       "      <td>33985796.0</td>\n",
       "      <td>75740424.0</td>\n",
       "      <td>Crime</td>\n",
       "      <td>10/03/2018</td>\n",
       "      <td>Home</td>\n",
       "      <td>Unknown</td>\n",
       "      <td>Material only</td>\n",
       "      <td>$2980</td>\n",
       "      <td>3.0</td>\n",
       "      <td>No</td>\n",
       "    </tr>\n",
       "  </tbody>\n",
       "</table>\n",
       "</div>"
      ],
      "text/plain": [
       "      CUST_ID  gender DateOfBirth State       Contact   Segment    claim_id  \\\n",
       "0  21868593.0  Female   12-Jan-79    VT  789-916-8172  Platinum  54004764.0   \n",
       "1  75740424.0  Female   13-Jan-70    ME  265-543-1264    Silver  33985796.0   \n",
       "\n",
       "   customer_id incident_cause  claim_date claim_area police_report  \\\n",
       "0   21868593.0   Driver error  11/27/2017       Auto            No   \n",
       "1   75740424.0          Crime  10/03/2018       Home       Unknown   \n",
       "\n",
       "      claim_type claim_amount  total_policy_claims fraudulent  \n",
       "0  Material only        $2980                  1.0         No  \n",
       "1  Material only        $2980                  3.0         No  "
      ]
     },
     "execution_count": 9,
     "metadata": {},
     "output_type": "execute_result"
    }
   ],
   "source": [
    "df.head(2)"
   ]
  },
  {
   "cell_type": "code",
   "execution_count": 10,
   "id": "4e4f4d91",
   "metadata": {},
   "outputs": [],
   "source": [
    "# Drop the column customer_id as it is repeated now"
   ]
  },
  {
   "cell_type": "code",
   "execution_count": 11,
   "id": "c721bcf8",
   "metadata": {},
   "outputs": [],
   "source": [
    "df.drop(columns='customer_id',axis=1,inplace=True)"
   ]
  },
  {
   "cell_type": "code",
   "execution_count": 12,
   "id": "4cb1590a",
   "metadata": {},
   "outputs": [
    {
     "data": {
      "text/html": [
       "<div>\n",
       "<style scoped>\n",
       "    .dataframe tbody tr th:only-of-type {\n",
       "        vertical-align: middle;\n",
       "    }\n",
       "\n",
       "    .dataframe tbody tr th {\n",
       "        vertical-align: top;\n",
       "    }\n",
       "\n",
       "    .dataframe thead th {\n",
       "        text-align: right;\n",
       "    }\n",
       "</style>\n",
       "<table border=\"1\" class=\"dataframe\">\n",
       "  <thead>\n",
       "    <tr style=\"text-align: right;\">\n",
       "      <th></th>\n",
       "      <th>CUST_ID</th>\n",
       "      <th>gender</th>\n",
       "      <th>DateOfBirth</th>\n",
       "      <th>State</th>\n",
       "      <th>Contact</th>\n",
       "      <th>Segment</th>\n",
       "      <th>claim_id</th>\n",
       "      <th>incident_cause</th>\n",
       "      <th>claim_date</th>\n",
       "      <th>claim_area</th>\n",
       "      <th>police_report</th>\n",
       "      <th>claim_type</th>\n",
       "      <th>claim_amount</th>\n",
       "      <th>total_policy_claims</th>\n",
       "      <th>fraudulent</th>\n",
       "    </tr>\n",
       "  </thead>\n",
       "  <tbody>\n",
       "    <tr>\n",
       "      <th>0</th>\n",
       "      <td>21868593.0</td>\n",
       "      <td>Female</td>\n",
       "      <td>12-Jan-79</td>\n",
       "      <td>VT</td>\n",
       "      <td>789-916-8172</td>\n",
       "      <td>Platinum</td>\n",
       "      <td>54004764.0</td>\n",
       "      <td>Driver error</td>\n",
       "      <td>11/27/2017</td>\n",
       "      <td>Auto</td>\n",
       "      <td>No</td>\n",
       "      <td>Material only</td>\n",
       "      <td>$2980</td>\n",
       "      <td>1.0</td>\n",
       "      <td>No</td>\n",
       "    </tr>\n",
       "    <tr>\n",
       "      <th>1</th>\n",
       "      <td>75740424.0</td>\n",
       "      <td>Female</td>\n",
       "      <td>13-Jan-70</td>\n",
       "      <td>ME</td>\n",
       "      <td>265-543-1264</td>\n",
       "      <td>Silver</td>\n",
       "      <td>33985796.0</td>\n",
       "      <td>Crime</td>\n",
       "      <td>10/03/2018</td>\n",
       "      <td>Home</td>\n",
       "      <td>Unknown</td>\n",
       "      <td>Material only</td>\n",
       "      <td>$2980</td>\n",
       "      <td>3.0</td>\n",
       "      <td>No</td>\n",
       "    </tr>\n",
       "  </tbody>\n",
       "</table>\n",
       "</div>"
      ],
      "text/plain": [
       "      CUST_ID  gender DateOfBirth State       Contact   Segment    claim_id  \\\n",
       "0  21868593.0  Female   12-Jan-79    VT  789-916-8172  Platinum  54004764.0   \n",
       "1  75740424.0  Female   13-Jan-70    ME  265-543-1264    Silver  33985796.0   \n",
       "\n",
       "  incident_cause  claim_date claim_area police_report     claim_type  \\\n",
       "0   Driver error  11/27/2017       Auto            No  Material only   \n",
       "1          Crime  10/03/2018       Home       Unknown  Material only   \n",
       "\n",
       "  claim_amount  total_policy_claims fraudulent  \n",
       "0        $2980                  1.0         No  \n",
       "1        $2980                  3.0         No  "
      ]
     },
     "execution_count": 12,
     "metadata": {},
     "output_type": "execute_result"
    }
   ],
   "source": [
    "df.head(2)"
   ]
  },
  {
   "cell_type": "markdown",
   "id": "f124b503",
   "metadata": {},
   "source": [
    "### 2. Perform a data audit for the datatypes and find out if there are any mismatch within the current datatypes of the columns and their business significance."
   ]
  },
  {
   "cell_type": "code",
   "execution_count": 13,
   "id": "b23945c8",
   "metadata": {},
   "outputs": [
    {
     "data": {
      "text/plain": [
       "CUST_ID                float64\n",
       "gender                  object\n",
       "DateOfBirth             object\n",
       "State                   object\n",
       "Contact                 object\n",
       "Segment                 object\n",
       "claim_id               float64\n",
       "incident_cause          object\n",
       "claim_date              object\n",
       "claim_area              object\n",
       "police_report           object\n",
       "claim_type              object\n",
       "claim_amount            object\n",
       "total_policy_claims    float64\n",
       "fraudulent              object\n",
       "dtype: object"
      ]
     },
     "execution_count": 13,
     "metadata": {},
     "output_type": "execute_result"
    }
   ],
   "source": [
    "df.dtypes"
   ]
  },
  {
   "cell_type": "raw",
   "id": "a1531fb1",
   "metadata": {},
   "source": [
    "From above information,we can see claim_amount,Contact,claim_date and DateOfBirth have object datatype,so, they need to be changed in correct dtype"
   ]
  },
  {
   "cell_type": "code",
   "execution_count": 14,
   "id": "7aafe48d",
   "metadata": {},
   "outputs": [],
   "source": [
    "#Change the datatype of claim_date and DateOfBirth object to datetime"
   ]
  },
  {
   "cell_type": "code",
   "execution_count": 15,
   "id": "6796767e",
   "metadata": {},
   "outputs": [],
   "source": [
    "df['claim_date'] = pd.to_datetime(df['claim_date'],format='%m/%d/%Y')\n",
    "df['DateOfBirth'] = pd.to_datetime(df['DateOfBirth'],format='%d-%b-%y')\n",
    "df['Contact'] = df['Contact'].str.replace('-','').astype(float)"
   ]
  },
  {
   "cell_type": "markdown",
   "id": "55d29cfa",
   "metadata": {},
   "source": [
    "### 3. Convert the column claim_amount to numeric. Use the appropriate modules/attributes to remove the '$' sign."
   ]
  },
  {
   "cell_type": "code",
   "execution_count": 16,
   "id": "44ba7457",
   "metadata": {},
   "outputs": [],
   "source": [
    "#change the datatype of claim_amount object to float"
   ]
  },
  {
   "cell_type": "code",
   "execution_count": 17,
   "id": "32b5ed17",
   "metadata": {},
   "outputs": [],
   "source": [
    "df['claim_amount'] = df['claim_amount'].str.replace('$','').astype(float)"
   ]
  },
  {
   "cell_type": "code",
   "execution_count": 18,
   "id": "2e207fb7",
   "metadata": {},
   "outputs": [
    {
     "data": {
      "text/html": [
       "<div>\n",
       "<style scoped>\n",
       "    .dataframe tbody tr th:only-of-type {\n",
       "        vertical-align: middle;\n",
       "    }\n",
       "\n",
       "    .dataframe tbody tr th {\n",
       "        vertical-align: top;\n",
       "    }\n",
       "\n",
       "    .dataframe thead th {\n",
       "        text-align: right;\n",
       "    }\n",
       "</style>\n",
       "<table border=\"1\" class=\"dataframe\">\n",
       "  <thead>\n",
       "    <tr style=\"text-align: right;\">\n",
       "      <th></th>\n",
       "      <th>CUST_ID</th>\n",
       "      <th>gender</th>\n",
       "      <th>DateOfBirth</th>\n",
       "      <th>State</th>\n",
       "      <th>Contact</th>\n",
       "      <th>Segment</th>\n",
       "      <th>claim_id</th>\n",
       "      <th>incident_cause</th>\n",
       "      <th>claim_date</th>\n",
       "      <th>claim_area</th>\n",
       "      <th>police_report</th>\n",
       "      <th>claim_type</th>\n",
       "      <th>claim_amount</th>\n",
       "      <th>total_policy_claims</th>\n",
       "      <th>fraudulent</th>\n",
       "    </tr>\n",
       "  </thead>\n",
       "  <tbody>\n",
       "    <tr>\n",
       "      <th>0</th>\n",
       "      <td>21868593.0</td>\n",
       "      <td>Female</td>\n",
       "      <td>1979-01-12</td>\n",
       "      <td>VT</td>\n",
       "      <td>7.899168e+09</td>\n",
       "      <td>Platinum</td>\n",
       "      <td>54004764.0</td>\n",
       "      <td>Driver error</td>\n",
       "      <td>2017-11-27</td>\n",
       "      <td>Auto</td>\n",
       "      <td>No</td>\n",
       "      <td>Material only</td>\n",
       "      <td>2980.0</td>\n",
       "      <td>1.0</td>\n",
       "      <td>No</td>\n",
       "    </tr>\n",
       "    <tr>\n",
       "      <th>1</th>\n",
       "      <td>75740424.0</td>\n",
       "      <td>Female</td>\n",
       "      <td>1970-01-13</td>\n",
       "      <td>ME</td>\n",
       "      <td>2.655431e+09</td>\n",
       "      <td>Silver</td>\n",
       "      <td>33985796.0</td>\n",
       "      <td>Crime</td>\n",
       "      <td>2018-10-03</td>\n",
       "      <td>Home</td>\n",
       "      <td>Unknown</td>\n",
       "      <td>Material only</td>\n",
       "      <td>2980.0</td>\n",
       "      <td>3.0</td>\n",
       "      <td>No</td>\n",
       "    </tr>\n",
       "  </tbody>\n",
       "</table>\n",
       "</div>"
      ],
      "text/plain": [
       "      CUST_ID  gender DateOfBirth State       Contact   Segment    claim_id  \\\n",
       "0  21868593.0  Female  1979-01-12    VT  7.899168e+09  Platinum  54004764.0   \n",
       "1  75740424.0  Female  1970-01-13    ME  2.655431e+09    Silver  33985796.0   \n",
       "\n",
       "  incident_cause claim_date claim_area police_report     claim_type  \\\n",
       "0   Driver error 2017-11-27       Auto            No  Material only   \n",
       "1          Crime 2018-10-03       Home       Unknown  Material only   \n",
       "\n",
       "   claim_amount  total_policy_claims fraudulent  \n",
       "0        2980.0                  1.0         No  \n",
       "1        2980.0                  3.0         No  "
      ]
     },
     "execution_count": 18,
     "metadata": {},
     "output_type": "execute_result"
    }
   ],
   "source": [
    "df.head(2)"
   ]
  },
  {
   "cell_type": "markdown",
   "id": "7731e02b",
   "metadata": {},
   "source": [
    "### 4. Of all the injury claims, some of them have gone unreported with the police. Create an alert flag (1,0) for all such claims."
   ]
  },
  {
   "cell_type": "code",
   "execution_count": 19,
   "id": "31f7257a",
   "metadata": {},
   "outputs": [],
   "source": [
    "df['alert_flag'] = np.where(df['police_report'] == 'Unknown' ,1,0)"
   ]
  },
  {
   "cell_type": "code",
   "execution_count": 20,
   "id": "8ae00ee8",
   "metadata": {},
   "outputs": [
    {
     "data": {
      "text/html": [
       "<div>\n",
       "<style scoped>\n",
       "    .dataframe tbody tr th:only-of-type {\n",
       "        vertical-align: middle;\n",
       "    }\n",
       "\n",
       "    .dataframe tbody tr th {\n",
       "        vertical-align: top;\n",
       "    }\n",
       "\n",
       "    .dataframe thead th {\n",
       "        text-align: right;\n",
       "    }\n",
       "</style>\n",
       "<table border=\"1\" class=\"dataframe\">\n",
       "  <thead>\n",
       "    <tr style=\"text-align: right;\">\n",
       "      <th></th>\n",
       "      <th>CUST_ID</th>\n",
       "      <th>gender</th>\n",
       "      <th>DateOfBirth</th>\n",
       "      <th>State</th>\n",
       "      <th>Contact</th>\n",
       "      <th>Segment</th>\n",
       "      <th>claim_id</th>\n",
       "      <th>incident_cause</th>\n",
       "      <th>claim_date</th>\n",
       "      <th>claim_area</th>\n",
       "      <th>police_report</th>\n",
       "      <th>claim_type</th>\n",
       "      <th>claim_amount</th>\n",
       "      <th>total_policy_claims</th>\n",
       "      <th>fraudulent</th>\n",
       "      <th>alert_flag</th>\n",
       "    </tr>\n",
       "  </thead>\n",
       "  <tbody>\n",
       "    <tr>\n",
       "      <th>0</th>\n",
       "      <td>21868593.0</td>\n",
       "      <td>Female</td>\n",
       "      <td>1979-01-12</td>\n",
       "      <td>VT</td>\n",
       "      <td>7.899168e+09</td>\n",
       "      <td>Platinum</td>\n",
       "      <td>54004764.0</td>\n",
       "      <td>Driver error</td>\n",
       "      <td>2017-11-27</td>\n",
       "      <td>Auto</td>\n",
       "      <td>No</td>\n",
       "      <td>Material only</td>\n",
       "      <td>2980.0</td>\n",
       "      <td>1.0</td>\n",
       "      <td>No</td>\n",
       "      <td>0</td>\n",
       "    </tr>\n",
       "    <tr>\n",
       "      <th>1</th>\n",
       "      <td>75740424.0</td>\n",
       "      <td>Female</td>\n",
       "      <td>1970-01-13</td>\n",
       "      <td>ME</td>\n",
       "      <td>2.655431e+09</td>\n",
       "      <td>Silver</td>\n",
       "      <td>33985796.0</td>\n",
       "      <td>Crime</td>\n",
       "      <td>2018-10-03</td>\n",
       "      <td>Home</td>\n",
       "      <td>Unknown</td>\n",
       "      <td>Material only</td>\n",
       "      <td>2980.0</td>\n",
       "      <td>3.0</td>\n",
       "      <td>No</td>\n",
       "      <td>1</td>\n",
       "    </tr>\n",
       "  </tbody>\n",
       "</table>\n",
       "</div>"
      ],
      "text/plain": [
       "      CUST_ID  gender DateOfBirth State       Contact   Segment    claim_id  \\\n",
       "0  21868593.0  Female  1979-01-12    VT  7.899168e+09  Platinum  54004764.0   \n",
       "1  75740424.0  Female  1970-01-13    ME  2.655431e+09    Silver  33985796.0   \n",
       "\n",
       "  incident_cause claim_date claim_area police_report     claim_type  \\\n",
       "0   Driver error 2017-11-27       Auto            No  Material only   \n",
       "1          Crime 2018-10-03       Home       Unknown  Material only   \n",
       "\n",
       "   claim_amount  total_policy_claims fraudulent  alert_flag  \n",
       "0        2980.0                  1.0         No           0  \n",
       "1        2980.0                  3.0         No           1  "
      ]
     },
     "execution_count": 20,
     "metadata": {},
     "output_type": "execute_result"
    }
   ],
   "source": [
    "df.head(2)"
   ]
  },
  {
   "cell_type": "markdown",
   "id": "dccad898",
   "metadata": {},
   "source": [
    "### 5. One customer can claim for insurance more than once and in each claim,multiple categories of claims can be involved. However, customer ID should remain unique. Retain the most recent observation and delete any duplicated records in the data based on the customer ID column."
   ]
  },
  {
   "cell_type": "code",
   "execution_count": 21,
   "id": "938dc044",
   "metadata": {},
   "outputs": [],
   "source": [
    "df = df.groupby('CUST_ID').first().reset_index(drop=True)"
   ]
  },
  {
   "cell_type": "code",
   "execution_count": 22,
   "id": "c13090ca",
   "metadata": {},
   "outputs": [
    {
     "data": {
      "text/html": [
       "<div>\n",
       "<style scoped>\n",
       "    .dataframe tbody tr th:only-of-type {\n",
       "        vertical-align: middle;\n",
       "    }\n",
       "\n",
       "    .dataframe tbody tr th {\n",
       "        vertical-align: top;\n",
       "    }\n",
       "\n",
       "    .dataframe thead th {\n",
       "        text-align: right;\n",
       "    }\n",
       "</style>\n",
       "<table border=\"1\" class=\"dataframe\">\n",
       "  <thead>\n",
       "    <tr style=\"text-align: right;\">\n",
       "      <th></th>\n",
       "      <th>gender</th>\n",
       "      <th>DateOfBirth</th>\n",
       "      <th>State</th>\n",
       "      <th>Contact</th>\n",
       "      <th>Segment</th>\n",
       "      <th>claim_id</th>\n",
       "      <th>incident_cause</th>\n",
       "      <th>claim_date</th>\n",
       "      <th>claim_area</th>\n",
       "      <th>police_report</th>\n",
       "      <th>claim_type</th>\n",
       "      <th>claim_amount</th>\n",
       "      <th>total_policy_claims</th>\n",
       "      <th>fraudulent</th>\n",
       "      <th>alert_flag</th>\n",
       "    </tr>\n",
       "  </thead>\n",
       "  <tbody>\n",
       "    <tr>\n",
       "      <th>0</th>\n",
       "      <td>Female</td>\n",
       "      <td>1978-05-23</td>\n",
       "      <td>DE</td>\n",
       "      <td>9.628791e+09</td>\n",
       "      <td>Platinum</td>\n",
       "      <td>69348631.0</td>\n",
       "      <td>Driver error</td>\n",
       "      <td>2018-04-10</td>\n",
       "      <td>Auto</td>\n",
       "      <td>No</td>\n",
       "      <td>Injury only</td>\n",
       "      <td>NaN</td>\n",
       "      <td>1.0</td>\n",
       "      <td>Yes</td>\n",
       "      <td>0</td>\n",
       "    </tr>\n",
       "    <tr>\n",
       "      <th>1</th>\n",
       "      <td>Male</td>\n",
       "      <td>1972-12-20</td>\n",
       "      <td>TX</td>\n",
       "      <td>1.738926e+09</td>\n",
       "      <td>Silver</td>\n",
       "      <td>40953049.0</td>\n",
       "      <td>Other causes</td>\n",
       "      <td>2018-04-04</td>\n",
       "      <td>Auto</td>\n",
       "      <td>No</td>\n",
       "      <td>Material and injury</td>\n",
       "      <td>39192.0</td>\n",
       "      <td>1.0</td>\n",
       "      <td>Yes</td>\n",
       "      <td>0</td>\n",
       "    </tr>\n",
       "  </tbody>\n",
       "</table>\n",
       "</div>"
      ],
      "text/plain": [
       "   gender DateOfBirth State       Contact   Segment    claim_id  \\\n",
       "0  Female  1978-05-23    DE  9.628791e+09  Platinum  69348631.0   \n",
       "1    Male  1972-12-20    TX  1.738926e+09    Silver  40953049.0   \n",
       "\n",
       "  incident_cause claim_date claim_area police_report           claim_type  \\\n",
       "0   Driver error 2018-04-10       Auto            No          Injury only   \n",
       "1   Other causes 2018-04-04       Auto            No  Material and injury   \n",
       "\n",
       "   claim_amount  total_policy_claims fraudulent  alert_flag  \n",
       "0           NaN                  1.0        Yes           0  \n",
       "1       39192.0                  1.0        Yes           0  "
      ]
     },
     "execution_count": 22,
     "metadata": {},
     "output_type": "execute_result"
    }
   ],
   "source": [
    "df.head(2)"
   ]
  },
  {
   "cell_type": "markdown",
   "id": "c31d8ff0",
   "metadata": {},
   "source": [
    "### 6. Check for missing values and impute the missing values with an appropriate value. (mean for continuous and mode for categorical)"
   ]
  },
  {
   "cell_type": "code",
   "execution_count": 23,
   "id": "8fdd7643",
   "metadata": {},
   "outputs": [
    {
     "data": {
      "text/plain": [
       "gender                  0\n",
       "DateOfBirth             0\n",
       "State                   0\n",
       "Contact                 0\n",
       "Segment                 0\n",
       "claim_id                7\n",
       "incident_cause          7\n",
       "claim_date              7\n",
       "claim_area              7\n",
       "police_report           7\n",
       "claim_type              7\n",
       "claim_amount           72\n",
       "total_policy_claims    17\n",
       "fraudulent              7\n",
       "alert_flag              0\n",
       "dtype: int64"
      ]
     },
     "execution_count": 23,
     "metadata": {},
     "output_type": "execute_result"
    }
   ],
   "source": [
    "df.isnull().sum()      #checking the null values"
   ]
  },
  {
   "cell_type": "code",
   "execution_count": 24,
   "id": "581509ff",
   "metadata": {},
   "outputs": [],
   "source": [
    "#claim_amount is continuous column as it filled with mean values\n",
    "\n",
    "df['claim_amount'] = df['claim_amount'].fillna(df['claim_amount'].mean())\n",
    "df['total_policy_claims'] = df['total_policy_claims'].fillna(df['total_policy_claims'].mean())"
   ]
  },
  {
   "cell_type": "code",
   "execution_count": 25,
   "id": "79334870",
   "metadata": {},
   "outputs": [],
   "source": [
    "# ccategorical columns are filled with mode values\n",
    "\n",
    "catagorical_col = [\"incident_cause\",\"claim_area\",\"claim_type\",\"fraudulent\"]"
   ]
  },
  {
   "cell_type": "code",
   "execution_count": 26,
   "id": "a78e10d4",
   "metadata": {},
   "outputs": [],
   "source": [
    "for col in catagorical_col:\n",
    "    df[col] = df[col].fillna(df[col].mode()[0])"
   ]
  },
  {
   "cell_type": "code",
   "execution_count": 27,
   "id": "245ebd02",
   "metadata": {},
   "outputs": [
    {
     "data": {
      "text/plain": [
       "gender                 0\n",
       "DateOfBirth            0\n",
       "State                  0\n",
       "Contact                0\n",
       "Segment                0\n",
       "claim_id               7\n",
       "incident_cause         0\n",
       "claim_date             7\n",
       "claim_area             0\n",
       "police_report          7\n",
       "claim_type             0\n",
       "claim_amount           0\n",
       "total_policy_claims    0\n",
       "fraudulent             0\n",
       "alert_flag             0\n",
       "dtype: int64"
      ]
     },
     "execution_count": 27,
     "metadata": {},
     "output_type": "execute_result"
    }
   ],
   "source": [
    "df.isnull().sum() "
   ]
  },
  {
   "cell_type": "markdown",
   "id": "c90ed71c",
   "metadata": {},
   "source": [
    "### 7. Calculate the age of customers in years. Based on the age, categorize the customers according to the below criteria\n",
    "- Children < 18\n",
    "- Youth 18-30\n",
    "- Adult 30-60\n",
    "- Senior > 60"
   ]
  },
  {
   "cell_type": "code",
   "execution_count": 28,
   "id": "0afbc4b3",
   "metadata": {},
   "outputs": [
    {
     "data": {
      "text/plain": [
       "2024"
      ]
     },
     "execution_count": 28,
     "metadata": {},
     "output_type": "execute_result"
    }
   ],
   "source": [
    "curr_year = pd.to_datetime('today').year\n",
    "curr_year"
   ]
  },
  {
   "cell_type": "code",
   "execution_count": 29,
   "id": "bacdc883",
   "metadata": {},
   "outputs": [],
   "source": [
    "df['DateOfBirth']=df['DateOfBirth'].dt.year"
   ]
  },
  {
   "cell_type": "code",
   "execution_count": 30,
   "id": "29d2ca70",
   "metadata": {},
   "outputs": [],
   "source": [
    "df['Birth_Year']=np.where(df['DateOfBirth']>curr_year,df['DateOfBirth']-100,df['DateOfBirth'])   "
   ]
  },
  {
   "cell_type": "code",
   "execution_count": 31,
   "id": "8121ad9b",
   "metadata": {},
   "outputs": [],
   "source": [
    "df['Age']=curr_year -df['Birth_Year']"
   ]
  },
  {
   "cell_type": "code",
   "execution_count": 32,
   "id": "5242c63d",
   "metadata": {},
   "outputs": [],
   "source": [
    "df['Age_Group']=np.where((df['Age'].astype(int)<18),\"Children\",np.where(((df['Age'].astype(int)>18) & (df['Age'].astype(int)<30)),\"Youth\",\n",
    "                                     np.where(((df['Age'].astype(int)>=30) & (df['Age'].astype(int)<60)),\"Adult\",\"Senior\" )))"
   ]
  },
  {
   "cell_type": "code",
   "execution_count": 33,
   "id": "d78c11b1",
   "metadata": {},
   "outputs": [
    {
     "data": {
      "text/html": [
       "<div>\n",
       "<style scoped>\n",
       "    .dataframe tbody tr th:only-of-type {\n",
       "        vertical-align: middle;\n",
       "    }\n",
       "\n",
       "    .dataframe tbody tr th {\n",
       "        vertical-align: top;\n",
       "    }\n",
       "\n",
       "    .dataframe thead th {\n",
       "        text-align: right;\n",
       "    }\n",
       "</style>\n",
       "<table border=\"1\" class=\"dataframe\">\n",
       "  <thead>\n",
       "    <tr style=\"text-align: right;\">\n",
       "      <th></th>\n",
       "      <th>gender</th>\n",
       "      <th>DateOfBirth</th>\n",
       "      <th>State</th>\n",
       "      <th>Contact</th>\n",
       "      <th>Segment</th>\n",
       "      <th>claim_id</th>\n",
       "      <th>incident_cause</th>\n",
       "      <th>claim_date</th>\n",
       "      <th>claim_area</th>\n",
       "      <th>police_report</th>\n",
       "      <th>claim_type</th>\n",
       "      <th>claim_amount</th>\n",
       "      <th>total_policy_claims</th>\n",
       "      <th>fraudulent</th>\n",
       "      <th>alert_flag</th>\n",
       "      <th>Birth_Year</th>\n",
       "      <th>Age</th>\n",
       "    </tr>\n",
       "    <tr>\n",
       "      <th>Age_Group</th>\n",
       "      <th></th>\n",
       "      <th></th>\n",
       "      <th></th>\n",
       "      <th></th>\n",
       "      <th></th>\n",
       "      <th></th>\n",
       "      <th></th>\n",
       "      <th></th>\n",
       "      <th></th>\n",
       "      <th></th>\n",
       "      <th></th>\n",
       "      <th></th>\n",
       "      <th></th>\n",
       "      <th></th>\n",
       "      <th></th>\n",
       "      <th></th>\n",
       "      <th></th>\n",
       "    </tr>\n",
       "  </thead>\n",
       "  <tbody>\n",
       "    <tr>\n",
       "      <th>Adult</th>\n",
       "      <td>810</td>\n",
       "      <td>810</td>\n",
       "      <td>810</td>\n",
       "      <td>810</td>\n",
       "      <td>810</td>\n",
       "      <td>805</td>\n",
       "      <td>810</td>\n",
       "      <td>805</td>\n",
       "      <td>810</td>\n",
       "      <td>805</td>\n",
       "      <td>810</td>\n",
       "      <td>810</td>\n",
       "      <td>810</td>\n",
       "      <td>810</td>\n",
       "      <td>810</td>\n",
       "      <td>810</td>\n",
       "      <td>810</td>\n",
       "    </tr>\n",
       "    <tr>\n",
       "      <th>Senior</th>\n",
       "      <td>133</td>\n",
       "      <td>133</td>\n",
       "      <td>133</td>\n",
       "      <td>133</td>\n",
       "      <td>133</td>\n",
       "      <td>132</td>\n",
       "      <td>133</td>\n",
       "      <td>132</td>\n",
       "      <td>133</td>\n",
       "      <td>132</td>\n",
       "      <td>133</td>\n",
       "      <td>133</td>\n",
       "      <td>133</td>\n",
       "      <td>133</td>\n",
       "      <td>133</td>\n",
       "      <td>133</td>\n",
       "      <td>133</td>\n",
       "    </tr>\n",
       "    <tr>\n",
       "      <th>Youth</th>\n",
       "      <td>142</td>\n",
       "      <td>142</td>\n",
       "      <td>142</td>\n",
       "      <td>142</td>\n",
       "      <td>142</td>\n",
       "      <td>141</td>\n",
       "      <td>142</td>\n",
       "      <td>141</td>\n",
       "      <td>142</td>\n",
       "      <td>141</td>\n",
       "      <td>142</td>\n",
       "      <td>142</td>\n",
       "      <td>142</td>\n",
       "      <td>142</td>\n",
       "      <td>142</td>\n",
       "      <td>142</td>\n",
       "      <td>142</td>\n",
       "    </tr>\n",
       "  </tbody>\n",
       "</table>\n",
       "</div>"
      ],
      "text/plain": [
       "           gender  DateOfBirth  State  Contact  Segment  claim_id  \\\n",
       "Age_Group                                                           \n",
       "Adult         810          810    810      810      810       805   \n",
       "Senior        133          133    133      133      133       132   \n",
       "Youth         142          142    142      142      142       141   \n",
       "\n",
       "           incident_cause  claim_date  claim_area  police_report  claim_type  \\\n",
       "Age_Group                                                                      \n",
       "Adult                 810         805         810            805         810   \n",
       "Senior                133         132         133            132         133   \n",
       "Youth                 142         141         142            141         142   \n",
       "\n",
       "           claim_amount  total_policy_claims  fraudulent  alert_flag  \\\n",
       "Age_Group                                                              \n",
       "Adult               810                  810         810         810   \n",
       "Senior              133                  133         133         133   \n",
       "Youth               142                  142         142         142   \n",
       "\n",
       "           Birth_Year  Age  \n",
       "Age_Group                   \n",
       "Adult             810  810  \n",
       "Senior            133  133  \n",
       "Youth             142  142  "
      ]
     },
     "execution_count": 33,
     "metadata": {},
     "output_type": "execute_result"
    }
   ],
   "source": [
    "df.groupby(by = 'Age_Group').count()"
   ]
  },
  {
   "cell_type": "code",
   "execution_count": 34,
   "id": "aa1c8a6b",
   "metadata": {},
   "outputs": [
    {
     "data": {
      "text/html": [
       "<div>\n",
       "<style scoped>\n",
       "    .dataframe tbody tr th:only-of-type {\n",
       "        vertical-align: middle;\n",
       "    }\n",
       "\n",
       "    .dataframe tbody tr th {\n",
       "        vertical-align: top;\n",
       "    }\n",
       "\n",
       "    .dataframe thead th {\n",
       "        text-align: right;\n",
       "    }\n",
       "</style>\n",
       "<table border=\"1\" class=\"dataframe\">\n",
       "  <thead>\n",
       "    <tr style=\"text-align: right;\">\n",
       "      <th></th>\n",
       "      <th>gender</th>\n",
       "      <th>DateOfBirth</th>\n",
       "      <th>State</th>\n",
       "      <th>Contact</th>\n",
       "      <th>Segment</th>\n",
       "      <th>claim_id</th>\n",
       "      <th>incident_cause</th>\n",
       "      <th>claim_date</th>\n",
       "      <th>claim_area</th>\n",
       "      <th>police_report</th>\n",
       "      <th>claim_type</th>\n",
       "      <th>claim_amount</th>\n",
       "      <th>total_policy_claims</th>\n",
       "      <th>fraudulent</th>\n",
       "      <th>alert_flag</th>\n",
       "      <th>Birth_Year</th>\n",
       "      <th>Age</th>\n",
       "      <th>Age_Group</th>\n",
       "    </tr>\n",
       "  </thead>\n",
       "  <tbody>\n",
       "    <tr>\n",
       "      <th>0</th>\n",
       "      <td>Female</td>\n",
       "      <td>1978</td>\n",
       "      <td>DE</td>\n",
       "      <td>9.628791e+09</td>\n",
       "      <td>Platinum</td>\n",
       "      <td>69348631.0</td>\n",
       "      <td>Driver error</td>\n",
       "      <td>2018-04-10</td>\n",
       "      <td>Auto</td>\n",
       "      <td>No</td>\n",
       "      <td>Injury only</td>\n",
       "      <td>12470.498519</td>\n",
       "      <td>1.0</td>\n",
       "      <td>Yes</td>\n",
       "      <td>0</td>\n",
       "      <td>1978</td>\n",
       "      <td>46</td>\n",
       "      <td>Adult</td>\n",
       "    </tr>\n",
       "    <tr>\n",
       "      <th>1</th>\n",
       "      <td>Male</td>\n",
       "      <td>1972</td>\n",
       "      <td>TX</td>\n",
       "      <td>1.738926e+09</td>\n",
       "      <td>Silver</td>\n",
       "      <td>40953049.0</td>\n",
       "      <td>Other causes</td>\n",
       "      <td>2018-04-04</td>\n",
       "      <td>Auto</td>\n",
       "      <td>No</td>\n",
       "      <td>Material and injury</td>\n",
       "      <td>39192.000000</td>\n",
       "      <td>1.0</td>\n",
       "      <td>Yes</td>\n",
       "      <td>0</td>\n",
       "      <td>1972</td>\n",
       "      <td>52</td>\n",
       "      <td>Adult</td>\n",
       "    </tr>\n",
       "  </tbody>\n",
       "</table>\n",
       "</div>"
      ],
      "text/plain": [
       "   gender  DateOfBirth State       Contact   Segment    claim_id  \\\n",
       "0  Female         1978    DE  9.628791e+09  Platinum  69348631.0   \n",
       "1    Male         1972    TX  1.738926e+09    Silver  40953049.0   \n",
       "\n",
       "  incident_cause claim_date claim_area police_report           claim_type  \\\n",
       "0   Driver error 2018-04-10       Auto            No          Injury only   \n",
       "1   Other causes 2018-04-04       Auto            No  Material and injury   \n",
       "\n",
       "   claim_amount  total_policy_claims fraudulent  alert_flag  Birth_Year  Age  \\\n",
       "0  12470.498519                  1.0        Yes           0        1978   46   \n",
       "1  39192.000000                  1.0        Yes           0        1972   52   \n",
       "\n",
       "  Age_Group  \n",
       "0     Adult  \n",
       "1     Adult  "
      ]
     },
     "execution_count": 34,
     "metadata": {},
     "output_type": "execute_result"
    }
   ],
   "source": [
    "df.head(2)"
   ]
  },
  {
   "cell_type": "markdown",
   "id": "d953a8aa",
   "metadata": {},
   "source": [
    "### 8. What is the average amount claimed by the customers from various segments?"
   ]
  },
  {
   "cell_type": "code",
   "execution_count": 35,
   "id": "9baa1544",
   "metadata": {},
   "outputs": [
    {
     "data": {
      "text/plain": [
       "Segment\n",
       "Gold        12755.710930\n",
       "Platinum    12370.138663\n",
       "Silver      12271.163192\n",
       "Name: claim_amount, dtype: float64"
      ]
     },
     "execution_count": 35,
     "metadata": {},
     "output_type": "execute_result"
    }
   ],
   "source": [
    "df.groupby('Segment')['claim_amount'].mean()"
   ]
  },
  {
   "cell_type": "markdown",
   "id": "856dedf3",
   "metadata": {},
   "source": [
    "### 9. What is the total claim amount based on incident cause for all the claims that have been done at least 20 days prior to 1st of October, 2018."
   ]
  },
  {
   "cell_type": "code",
   "execution_count": 36,
   "id": "8a1b1bd7",
   "metadata": {},
   "outputs": [
    {
     "data": {
      "text/html": [
       "<div>\n",
       "<style scoped>\n",
       "    .dataframe tbody tr th:only-of-type {\n",
       "        vertical-align: middle;\n",
       "    }\n",
       "\n",
       "    .dataframe tbody tr th {\n",
       "        vertical-align: top;\n",
       "    }\n",
       "\n",
       "    .dataframe thead th {\n",
       "        text-align: right;\n",
       "    }\n",
       "</style>\n",
       "<table border=\"1\" class=\"dataframe\">\n",
       "  <thead>\n",
       "    <tr style=\"text-align: right;\">\n",
       "      <th></th>\n",
       "      <th>incident_cause</th>\n",
       "      <th>claim_amount</th>\n",
       "    </tr>\n",
       "  </thead>\n",
       "  <tbody>\n",
       "    <tr>\n",
       "      <th>0</th>\n",
       "      <td>Crime</td>\n",
       "      <td>7.244625e+05</td>\n",
       "    </tr>\n",
       "    <tr>\n",
       "      <th>1</th>\n",
       "      <td>Driver error</td>\n",
       "      <td>3.264286e+06</td>\n",
       "    </tr>\n",
       "    <tr>\n",
       "      <th>2</th>\n",
       "      <td>Natural causes</td>\n",
       "      <td>1.312706e+06</td>\n",
       "    </tr>\n",
       "    <tr>\n",
       "      <th>3</th>\n",
       "      <td>Other causes</td>\n",
       "      <td>3.725038e+06</td>\n",
       "    </tr>\n",
       "    <tr>\n",
       "      <th>4</th>\n",
       "      <td>Other driver error</td>\n",
       "      <td>3.318806e+06</td>\n",
       "    </tr>\n",
       "  </tbody>\n",
       "</table>\n",
       "</div>"
      ],
      "text/plain": [
       "       incident_cause  claim_amount\n",
       "0               Crime  7.244625e+05\n",
       "1        Driver error  3.264286e+06\n",
       "2      Natural causes  1.312706e+06\n",
       "3        Other causes  3.725038e+06\n",
       "4  Other driver error  3.318806e+06"
      ]
     },
     "execution_count": 36,
     "metadata": {},
     "output_type": "execute_result"
    }
   ],
   "source": [
    "df[df.claim_date < '2018-09-10'].groupby('incident_cause')['claim_amount'].sum().reset_index()"
   ]
  },
  {
   "cell_type": "markdown",
   "id": "2072fb5e",
   "metadata": {},
   "source": [
    "### 10. How many adults from TX, DE and AK claimed insurance for driver related issues and causes? "
   ]
  },
  {
   "cell_type": "code",
   "execution_count": 37,
   "id": "e06db9f7",
   "metadata": {},
   "outputs": [
    {
     "data": {
      "text/plain": [
       "State\n",
       "AK     9\n",
       "DE    10\n",
       "TX     8\n",
       "Name: State, dtype: int64"
      ]
     },
     "execution_count": 37,
     "metadata": {},
     "output_type": "execute_result"
    }
   ],
   "source": [
    "df[(df.incident_cause.str.lower().str.contains('driver')) & (df.Age_Group =='Adult') & ((df.State == 'TX') | (df.State == 'DE') | (df.State == 'AK'))].groupby('State')['State'].count()"
   ]
  },
  {
   "cell_type": "markdown",
   "id": "6909ca2d",
   "metadata": {},
   "source": [
    "### 11. Draw a pie chart between the aggregated value of claim amount based on gender and segment. Represent the claim amount as a percentage on the pie chart."
   ]
  },
  {
   "cell_type": "code",
   "execution_count": 38,
   "id": "1a92774a",
   "metadata": {},
   "outputs": [],
   "source": [
    "pie_chart = pd.pivot_table(data = df,index='Segment',columns='gender',values='claim_amount',aggfunc='sum')"
   ]
  },
  {
   "cell_type": "code",
   "execution_count": 39,
   "id": "3ce04c21",
   "metadata": {},
   "outputs": [
    {
     "data": {
      "text/html": [
       "<div>\n",
       "<style scoped>\n",
       "    .dataframe tbody tr th:only-of-type {\n",
       "        vertical-align: middle;\n",
       "    }\n",
       "\n",
       "    .dataframe tbody tr th {\n",
       "        vertical-align: top;\n",
       "    }\n",
       "\n",
       "    .dataframe thead th {\n",
       "        text-align: right;\n",
       "    }\n",
       "</style>\n",
       "<table border=\"1\" class=\"dataframe\">\n",
       "  <thead>\n",
       "    <tr style=\"text-align: right;\">\n",
       "      <th>gender</th>\n",
       "      <th>Female</th>\n",
       "      <th>Male</th>\n",
       "    </tr>\n",
       "    <tr>\n",
       "      <th>Segment</th>\n",
       "      <th></th>\n",
       "      <th></th>\n",
       "    </tr>\n",
       "  </thead>\n",
       "  <tbody>\n",
       "    <tr>\n",
       "      <th>Gold</th>\n",
       "      <td>2.122234e+06</td>\n",
       "      <td>2.622890e+06</td>\n",
       "    </tr>\n",
       "    <tr>\n",
       "      <th>Platinum</th>\n",
       "      <td>2.381974e+06</td>\n",
       "      <td>2.120756e+06</td>\n",
       "    </tr>\n",
       "    <tr>\n",
       "      <th>Silver</th>\n",
       "      <td>1.935970e+06</td>\n",
       "      <td>2.346666e+06</td>\n",
       "    </tr>\n",
       "  </tbody>\n",
       "</table>\n",
       "</div>"
      ],
      "text/plain": [
       "gender          Female          Male\n",
       "Segment                             \n",
       "Gold      2.122234e+06  2.622890e+06\n",
       "Platinum  2.381974e+06  2.120756e+06\n",
       "Silver    1.935970e+06  2.346666e+06"
      ]
     },
     "execution_count": 39,
     "metadata": {},
     "output_type": "execute_result"
    }
   ],
   "source": [
    "pie_chart"
   ]
  },
  {
   "cell_type": "code",
   "execution_count": 40,
   "id": "e81e390f",
   "metadata": {},
   "outputs": [
    {
     "data": {
      "text/plain": [
       "<Figure size 300x300 with 0 Axes>"
      ]
     },
     "metadata": {},
     "output_type": "display_data"
    },
    {
     "data": {
      "image/png": "[encoded data removed]",
      "text/plain": [
       "<Figure size 640x480 with 2 Axes>"
      ]
     },
     "metadata": {},
     "output_type": "display_data"
    }
   ],
   "source": [
    "plt.figure(figsize=(3,3))\n",
    "pie_chart.plot(kind='pie',subplots=True)\n",
    "plt.show()"
   ]
  },
  {
   "cell_type": "markdown",
   "id": "43e43dfb",
   "metadata": {},
   "source": [
    "### 12. Among males and females, which gender had claimed the most for any type of driver related issues? E.g. This metric can be compared using a bar chart"
   ]
  },
  {
   "cell_type": "code",
   "execution_count": 41,
   "id": "1b7597dc",
   "metadata": {},
   "outputs": [
    {
     "data": {
      "text/plain": [
       "gender\n",
       "Female    221\n",
       "Male      280\n",
       "Name: gender, dtype: int64"
      ]
     },
     "execution_count": 41,
     "metadata": {},
     "output_type": "execute_result"
    }
   ],
   "source": [
    "bar_chart = df[(df.incident_cause.str.lower().str.contains('driver'))].groupby('gender')['gender'].count()\n",
    "bar_chart"
   ]
  },
  {
   "cell_type": "code",
   "execution_count": 42,
   "id": "e63f70e8",
   "metadata": {},
   "outputs": [
    {
     "data": {
      "image/png": "[encoded data removed]",
      "text/plain": [
       "<Figure size 300x300 with 1 Axes>"
      ]
     },
     "metadata": {},
     "output_type": "display_data"
    }
   ],
   "source": [
    "plt.figure(figsize=(3,3))\n",
    "bar_chart.plot(kind='bar',subplots=True)\n",
    "plt.show()"
   ]
  },
  {
   "cell_type": "markdown",
   "id": "7731729a",
   "metadata": {},
   "source": [
    "### 13. Which age group had the maximum fraudulent policy claims? Visualize it on a bar chart."
   ]
  },
  {
   "cell_type": "code",
   "execution_count": 43,
   "id": "a5346d8f",
   "metadata": {},
   "outputs": [
    {
     "data": {
      "text/html": [
       "<div>\n",
       "<style scoped>\n",
       "    .dataframe tbody tr th:only-of-type {\n",
       "        vertical-align: middle;\n",
       "    }\n",
       "\n",
       "    .dataframe tbody tr th {\n",
       "        vertical-align: top;\n",
       "    }\n",
       "\n",
       "    .dataframe thead th {\n",
       "        text-align: right;\n",
       "    }\n",
       "</style>\n",
       "<table border=\"1\" class=\"dataframe\">\n",
       "  <thead>\n",
       "    <tr style=\"text-align: right;\">\n",
       "      <th></th>\n",
       "      <th>gender</th>\n",
       "      <th>DateOfBirth</th>\n",
       "      <th>State</th>\n",
       "      <th>Contact</th>\n",
       "      <th>Segment</th>\n",
       "      <th>claim_id</th>\n",
       "      <th>incident_cause</th>\n",
       "      <th>claim_date</th>\n",
       "      <th>claim_area</th>\n",
       "      <th>police_report</th>\n",
       "      <th>claim_type</th>\n",
       "      <th>claim_amount</th>\n",
       "      <th>total_policy_claims</th>\n",
       "      <th>fraudulent</th>\n",
       "      <th>alert_flag</th>\n",
       "      <th>Birth_Year</th>\n",
       "      <th>Age</th>\n",
       "      <th>Age_Group</th>\n",
       "    </tr>\n",
       "  </thead>\n",
       "  <tbody>\n",
       "    <tr>\n",
       "      <th>0</th>\n",
       "      <td>Female</td>\n",
       "      <td>1978</td>\n",
       "      <td>DE</td>\n",
       "      <td>9.628791e+09</td>\n",
       "      <td>Platinum</td>\n",
       "      <td>69348631.0</td>\n",
       "      <td>Driver error</td>\n",
       "      <td>2018-04-10</td>\n",
       "      <td>Auto</td>\n",
       "      <td>No</td>\n",
       "      <td>Injury only</td>\n",
       "      <td>12470.498519</td>\n",
       "      <td>1.0</td>\n",
       "      <td>Yes</td>\n",
       "      <td>0</td>\n",
       "      <td>1978</td>\n",
       "      <td>46</td>\n",
       "      <td>Adult</td>\n",
       "    </tr>\n",
       "    <tr>\n",
       "      <th>1</th>\n",
       "      <td>Male</td>\n",
       "      <td>1972</td>\n",
       "      <td>TX</td>\n",
       "      <td>1.738926e+09</td>\n",
       "      <td>Silver</td>\n",
       "      <td>40953049.0</td>\n",
       "      <td>Other causes</td>\n",
       "      <td>2018-04-04</td>\n",
       "      <td>Auto</td>\n",
       "      <td>No</td>\n",
       "      <td>Material and injury</td>\n",
       "      <td>39192.000000</td>\n",
       "      <td>1.0</td>\n",
       "      <td>Yes</td>\n",
       "      <td>0</td>\n",
       "      <td>1972</td>\n",
       "      <td>52</td>\n",
       "      <td>Adult</td>\n",
       "    </tr>\n",
       "  </tbody>\n",
       "</table>\n",
       "</div>"
      ],
      "text/plain": [
       "   gender  DateOfBirth State       Contact   Segment    claim_id  \\\n",
       "0  Female         1978    DE  9.628791e+09  Platinum  69348631.0   \n",
       "1    Male         1972    TX  1.738926e+09    Silver  40953049.0   \n",
       "\n",
       "  incident_cause claim_date claim_area police_report           claim_type  \\\n",
       "0   Driver error 2018-04-10       Auto            No          Injury only   \n",
       "1   Other causes 2018-04-04       Auto            No  Material and injury   \n",
       "\n",
       "   claim_amount  total_policy_claims fraudulent  alert_flag  Birth_Year  Age  \\\n",
       "0  12470.498519                  1.0        Yes           0        1978   46   \n",
       "1  39192.000000                  1.0        Yes           0        1972   52   \n",
       "\n",
       "  Age_Group  \n",
       "0     Adult  \n",
       "1     Adult  "
      ]
     },
     "execution_count": 43,
     "metadata": {},
     "output_type": "execute_result"
    }
   ],
   "source": [
    "df.head(2)"
   ]
  },
  {
   "cell_type": "code",
   "execution_count": 44,
   "id": "7eb2c994",
   "metadata": {},
   "outputs": [
    {
     "data": {
      "text/html": [
       "<div>\n",
       "<style scoped>\n",
       "    .dataframe tbody tr th:only-of-type {\n",
       "        vertical-align: middle;\n",
       "    }\n",
       "\n",
       "    .dataframe tbody tr th {\n",
       "        vertical-align: top;\n",
       "    }\n",
       "\n",
       "    .dataframe thead th {\n",
       "        text-align: right;\n",
       "    }\n",
       "</style>\n",
       "<table border=\"1\" class=\"dataframe\">\n",
       "  <thead>\n",
       "    <tr style=\"text-align: right;\">\n",
       "      <th></th>\n",
       "      <th>Age_Group</th>\n",
       "      <th>fraudulent</th>\n",
       "    </tr>\n",
       "  </thead>\n",
       "  <tbody>\n",
       "    <tr>\n",
       "      <th>0</th>\n",
       "      <td>Adult</td>\n",
       "      <td>810</td>\n",
       "    </tr>\n",
       "    <tr>\n",
       "      <th>1</th>\n",
       "      <td>Senior</td>\n",
       "      <td>133</td>\n",
       "    </tr>\n",
       "    <tr>\n",
       "      <th>2</th>\n",
       "      <td>Youth</td>\n",
       "      <td>142</td>\n",
       "    </tr>\n",
       "  </tbody>\n",
       "</table>\n",
       "</div>"
      ],
      "text/plain": [
       "  Age_Group  fraudulent\n",
       "0     Adult         810\n",
       "1    Senior         133\n",
       "2     Youth         142"
      ]
     },
     "execution_count": 44,
     "metadata": {},
     "output_type": "execute_result"
    }
   ],
   "source": [
    "max_fraudulent_claims = df.groupby('Age_Group')['fraudulent'].count().reset_index()\n",
    "max_fraudulent_claims"
   ]
  },
  {
   "cell_type": "code",
   "execution_count": 45,
   "id": "4ce48166",
   "metadata": {},
   "outputs": [
    {
     "data": {
      "text/plain": [
       "<Figure size 300x200 with 0 Axes>"
      ]
     },
     "metadata": {},
     "output_type": "display_data"
    },
    {
     "data": {
      "image/png": "[encoded data removed]",
      "text/plain": [
       "<Figure size 640x480 with 1 Axes>"
      ]
     },
     "metadata": {},
     "output_type": "display_data"
    }
   ],
   "source": [
    "plt.figure(figsize=(3,2))\n",
    "max_fraudulent_claims.plot(kind='bar',x='Age_Group',y='fraudulent')\n",
    "plt.show()"
   ]
  },
  {
   "cell_type": "markdown",
   "id": "242a55b2",
   "metadata": {},
   "source": [
    "### 14. Visualize the monthly trend of the total amount that has been claimed by the customers. Ensure that on the “month” axis, the month is in a chronological order not alphabetical order. "
   ]
  },
  {
   "cell_type": "code",
   "execution_count": 46,
   "id": "5d9e227d",
   "metadata": {},
   "outputs": [],
   "source": [
    "df['claim_month'] = df['claim_date'].apply(lambda x: x.month)"
   ]
  },
  {
   "cell_type": "code",
   "execution_count": 47,
   "id": "067379d0",
   "metadata": {},
   "outputs": [
    {
     "data": {
      "text/html": [
       "<div>\n",
       "<style scoped>\n",
       "    .dataframe tbody tr th:only-of-type {\n",
       "        vertical-align: middle;\n",
       "    }\n",
       "\n",
       "    .dataframe tbody tr th {\n",
       "        vertical-align: top;\n",
       "    }\n",
       "\n",
       "    .dataframe thead th {\n",
       "        text-align: right;\n",
       "    }\n",
       "</style>\n",
       "<table border=\"1\" class=\"dataframe\">\n",
       "  <thead>\n",
       "    <tr style=\"text-align: right;\">\n",
       "      <th></th>\n",
       "      <th>gender</th>\n",
       "      <th>DateOfBirth</th>\n",
       "      <th>State</th>\n",
       "      <th>Contact</th>\n",
       "      <th>Segment</th>\n",
       "      <th>claim_id</th>\n",
       "      <th>incident_cause</th>\n",
       "      <th>claim_date</th>\n",
       "      <th>claim_area</th>\n",
       "      <th>police_report</th>\n",
       "      <th>claim_type</th>\n",
       "      <th>claim_amount</th>\n",
       "      <th>total_policy_claims</th>\n",
       "      <th>fraudulent</th>\n",
       "      <th>alert_flag</th>\n",
       "      <th>Birth_Year</th>\n",
       "      <th>Age</th>\n",
       "      <th>Age_Group</th>\n",
       "      <th>claim_month</th>\n",
       "    </tr>\n",
       "  </thead>\n",
       "  <tbody>\n",
       "    <tr>\n",
       "      <th>0</th>\n",
       "      <td>Female</td>\n",
       "      <td>1978</td>\n",
       "      <td>DE</td>\n",
       "      <td>9.628791e+09</td>\n",
       "      <td>Platinum</td>\n",
       "      <td>69348631.0</td>\n",
       "      <td>Driver error</td>\n",
       "      <td>2018-04-10</td>\n",
       "      <td>Auto</td>\n",
       "      <td>No</td>\n",
       "      <td>Injury only</td>\n",
       "      <td>12470.498519</td>\n",
       "      <td>1.0</td>\n",
       "      <td>Yes</td>\n",
       "      <td>0</td>\n",
       "      <td>1978</td>\n",
       "      <td>46</td>\n",
       "      <td>Adult</td>\n",
       "      <td>4.0</td>\n",
       "    </tr>\n",
       "    <tr>\n",
       "      <th>1</th>\n",
       "      <td>Male</td>\n",
       "      <td>1972</td>\n",
       "      <td>TX</td>\n",
       "      <td>1.738926e+09</td>\n",
       "      <td>Silver</td>\n",
       "      <td>40953049.0</td>\n",
       "      <td>Other causes</td>\n",
       "      <td>2018-04-04</td>\n",
       "      <td>Auto</td>\n",
       "      <td>No</td>\n",
       "      <td>Material and injury</td>\n",
       "      <td>39192.000000</td>\n",
       "      <td>1.0</td>\n",
       "      <td>Yes</td>\n",
       "      <td>0</td>\n",
       "      <td>1972</td>\n",
       "      <td>52</td>\n",
       "      <td>Adult</td>\n",
       "      <td>4.0</td>\n",
       "    </tr>\n",
       "  </tbody>\n",
       "</table>\n",
       "</div>"
      ],
      "text/plain": [
       "   gender  DateOfBirth State       Contact   Segment    claim_id  \\\n",
       "0  Female         1978    DE  9.628791e+09  Platinum  69348631.0   \n",
       "1    Male         1972    TX  1.738926e+09    Silver  40953049.0   \n",
       "\n",
       "  incident_cause claim_date claim_area police_report           claim_type  \\\n",
       "0   Driver error 2018-04-10       Auto            No          Injury only   \n",
       "1   Other causes 2018-04-04       Auto            No  Material and injury   \n",
       "\n",
       "   claim_amount  total_policy_claims fraudulent  alert_flag  Birth_Year  Age  \\\n",
       "0  12470.498519                  1.0        Yes           0        1978   46   \n",
       "1  39192.000000                  1.0        Yes           0        1972   52   \n",
       "\n",
       "  Age_Group  claim_month  \n",
       "0     Adult          4.0  \n",
       "1     Adult          4.0  "
      ]
     },
     "execution_count": 47,
     "metadata": {},
     "output_type": "execute_result"
    }
   ],
   "source": [
    "df.head(2)"
   ]
  },
  {
   "cell_type": "code",
   "execution_count": 48,
   "id": "0b8b1b24",
   "metadata": {},
   "outputs": [
    {
     "data": {
      "text/html": [
       "<div>\n",
       "<style scoped>\n",
       "    .dataframe tbody tr th:only-of-type {\n",
       "        vertical-align: middle;\n",
       "    }\n",
       "\n",
       "    .dataframe tbody tr th {\n",
       "        vertical-align: top;\n",
       "    }\n",
       "\n",
       "    .dataframe thead th {\n",
       "        text-align: right;\n",
       "    }\n",
       "</style>\n",
       "<table border=\"1\" class=\"dataframe\">\n",
       "  <thead>\n",
       "    <tr style=\"text-align: right;\">\n",
       "      <th></th>\n",
       "      <th>claim_month</th>\n",
       "      <th>claim_amount</th>\n",
       "    </tr>\n",
       "  </thead>\n",
       "  <tbody>\n",
       "    <tr>\n",
       "      <th>0</th>\n",
       "      <td>1.0</td>\n",
       "      <td>1.332012e+06</td>\n",
       "    </tr>\n",
       "    <tr>\n",
       "      <th>1</th>\n",
       "      <td>2.0</td>\n",
       "      <td>1.133107e+06</td>\n",
       "    </tr>\n",
       "    <tr>\n",
       "      <th>2</th>\n",
       "      <td>3.0</td>\n",
       "      <td>1.320094e+06</td>\n",
       "    </tr>\n",
       "    <tr>\n",
       "      <th>3</th>\n",
       "      <td>4.0</td>\n",
       "      <td>1.276071e+06</td>\n",
       "    </tr>\n",
       "    <tr>\n",
       "      <th>4</th>\n",
       "      <td>5.0</td>\n",
       "      <td>1.114211e+06</td>\n",
       "    </tr>\n",
       "    <tr>\n",
       "      <th>5</th>\n",
       "      <td>6.0</td>\n",
       "      <td>1.276333e+06</td>\n",
       "    </tr>\n",
       "    <tr>\n",
       "      <th>6</th>\n",
       "      <td>7.0</td>\n",
       "      <td>1.379035e+06</td>\n",
       "    </tr>\n",
       "    <tr>\n",
       "      <th>7</th>\n",
       "      <td>8.0</td>\n",
       "      <td>9.112035e+05</td>\n",
       "    </tr>\n",
       "    <tr>\n",
       "      <th>8</th>\n",
       "      <td>9.0</td>\n",
       "      <td>9.806480e+05</td>\n",
       "    </tr>\n",
       "    <tr>\n",
       "      <th>9</th>\n",
       "      <td>10.0</td>\n",
       "      <td>1.422655e+06</td>\n",
       "    </tr>\n",
       "    <tr>\n",
       "      <th>10</th>\n",
       "      <td>11.0</td>\n",
       "      <td>6.011250e+05</td>\n",
       "    </tr>\n",
       "    <tr>\n",
       "      <th>11</th>\n",
       "      <td>12.0</td>\n",
       "      <td>6.967015e+05</td>\n",
       "    </tr>\n",
       "  </tbody>\n",
       "</table>\n",
       "</div>"
      ],
      "text/plain": [
       "    claim_month  claim_amount\n",
       "0           1.0  1.332012e+06\n",
       "1           2.0  1.133107e+06\n",
       "2           3.0  1.320094e+06\n",
       "3           4.0  1.276071e+06\n",
       "4           5.0  1.114211e+06\n",
       "5           6.0  1.276333e+06\n",
       "6           7.0  1.379035e+06\n",
       "7           8.0  9.112035e+05\n",
       "8           9.0  9.806480e+05\n",
       "9          10.0  1.422655e+06\n",
       "10         11.0  6.011250e+05\n",
       "11         12.0  6.967015e+05"
      ]
     },
     "execution_count": 48,
     "metadata": {},
     "output_type": "execute_result"
    }
   ],
   "source": [
    "monthly_trend= df.groupby('claim_month')['claim_amount'].sum().reset_index()\n",
    "monthly_trend"
   ]
  },
  {
   "cell_type": "code",
   "execution_count": 49,
   "id": "10f91839",
   "metadata": {},
   "outputs": [
    {
     "data": {
      "text/plain": [
       "<Figure size 600x200 with 0 Axes>"
      ]
     },
     "metadata": {},
     "output_type": "display_data"
    },
    {
     "data": {
      "image/png": "[encoded data removed]",
      "text/plain": [
       "<Figure size 640x480 with 1 Axes>"
      ]
     },
     "metadata": {},
     "output_type": "display_data"
    }
   ],
   "source": [
    "plt.figure(figsize=(6,2))\n",
    "monthly_trend.plot(kind='bar',x='claim_month',y='claim_amount')\n",
    "plt.show()"
   ]
  },
  {
   "cell_type": "markdown",
   "id": "b8bfa7f3",
   "metadata": {},
   "source": [
    "### 15. What is the average claim amount for gender and age categories and suitably represent the above using a facetted bar chart, one facet that represents fraudulent claims and the other for non-fraudulent claims.\n",
    "\n",
    "Based on the conclusions from exploratory analysis as well as suitable statistical tests, answer the below questions. Please include a detailed write-up on the parameters taken into consideration, the Hypothesis testing steps, conclusion from the p-values and the business implications of the statements. "
   ]
  },
  {
   "cell_type": "code",
   "execution_count": 50,
   "id": "6df51e60",
   "metadata": {},
   "outputs": [
    {
     "data": {
      "text/html": [
       "<div>\n",
       "<style scoped>\n",
       "    .dataframe tbody tr th:only-of-type {\n",
       "        vertical-align: middle;\n",
       "    }\n",
       "\n",
       "    .dataframe tbody tr th {\n",
       "        vertical-align: top;\n",
       "    }\n",
       "\n",
       "    .dataframe thead th {\n",
       "        text-align: right;\n",
       "    }\n",
       "</style>\n",
       "<table border=\"1\" class=\"dataframe\">\n",
       "  <thead>\n",
       "    <tr style=\"text-align: right;\">\n",
       "      <th></th>\n",
       "      <th>gender</th>\n",
       "      <th>Age_Group</th>\n",
       "      <th>claim_amount</th>\n",
       "    </tr>\n",
       "  </thead>\n",
       "  <tbody>\n",
       "    <tr>\n",
       "      <th>0</th>\n",
       "      <td>Female</td>\n",
       "      <td>Adult</td>\n",
       "      <td>12807.694313</td>\n",
       "    </tr>\n",
       "    <tr>\n",
       "      <th>1</th>\n",
       "      <td>Female</td>\n",
       "      <td>Senior</td>\n",
       "      <td>4860.840909</td>\n",
       "    </tr>\n",
       "    <tr>\n",
       "      <th>2</th>\n",
       "      <td>Female</td>\n",
       "      <td>Youth</td>\n",
       "      <td>9680.356931</td>\n",
       "    </tr>\n",
       "    <tr>\n",
       "      <th>3</th>\n",
       "      <td>Male</td>\n",
       "      <td>Adult</td>\n",
       "      <td>15617.515372</td>\n",
       "    </tr>\n",
       "    <tr>\n",
       "      <th>4</th>\n",
       "      <td>Male</td>\n",
       "      <td>Senior</td>\n",
       "      <td>15424.153846</td>\n",
       "    </tr>\n",
       "    <tr>\n",
       "      <th>5</th>\n",
       "      <td>Male</td>\n",
       "      <td>Youth</td>\n",
       "      <td>9702.227138</td>\n",
       "    </tr>\n",
       "  </tbody>\n",
       "</table>\n",
       "</div>"
      ],
      "text/plain": [
       "   gender Age_Group  claim_amount\n",
       "0  Female     Adult  12807.694313\n",
       "1  Female    Senior   4860.840909\n",
       "2  Female     Youth   9680.356931\n",
       "3    Male     Adult  15617.515372\n",
       "4    Male    Senior  15424.153846\n",
       "5    Male     Youth   9702.227138"
      ]
     },
     "execution_count": 50,
     "metadata": {},
     "output_type": "execute_result"
    }
   ],
   "source": [
    "fraud_claims = df[df.fraudulent == 'Yes'].groupby(['gender','Age_Group'])['claim_amount'].mean().reset_index()\n",
    "fraud_claims"
   ]
  },
  {
   "cell_type": "code",
   "execution_count": 51,
   "id": "a086421c",
   "metadata": {},
   "outputs": [
    {
     "data": {
      "text/html": [
       "<div>\n",
       "<style scoped>\n",
       "    .dataframe tbody tr th:only-of-type {\n",
       "        vertical-align: middle;\n",
       "    }\n",
       "\n",
       "    .dataframe tbody tr th {\n",
       "        vertical-align: top;\n",
       "    }\n",
       "\n",
       "    .dataframe thead th {\n",
       "        text-align: right;\n",
       "    }\n",
       "</style>\n",
       "<table border=\"1\" class=\"dataframe\">\n",
       "  <thead>\n",
       "    <tr style=\"text-align: right;\">\n",
       "      <th></th>\n",
       "      <th>gender</th>\n",
       "      <th>Age_Group</th>\n",
       "      <th>claim_amount</th>\n",
       "    </tr>\n",
       "  </thead>\n",
       "  <tbody>\n",
       "    <tr>\n",
       "      <th>0</th>\n",
       "      <td>Female</td>\n",
       "      <td>Adult</td>\n",
       "      <td>12741.634800</td>\n",
       "    </tr>\n",
       "    <tr>\n",
       "      <th>1</th>\n",
       "      <td>Female</td>\n",
       "      <td>Senior</td>\n",
       "      <td>11604.299770</td>\n",
       "    </tr>\n",
       "    <tr>\n",
       "      <th>2</th>\n",
       "      <td>Female</td>\n",
       "      <td>Youth</td>\n",
       "      <td>11392.482378</td>\n",
       "    </tr>\n",
       "    <tr>\n",
       "      <th>3</th>\n",
       "      <td>Male</td>\n",
       "      <td>Adult</td>\n",
       "      <td>12035.930923</td>\n",
       "    </tr>\n",
       "    <tr>\n",
       "      <th>4</th>\n",
       "      <td>Male</td>\n",
       "      <td>Senior</td>\n",
       "      <td>11567.943340</td>\n",
       "    </tr>\n",
       "    <tr>\n",
       "      <th>5</th>\n",
       "      <td>Male</td>\n",
       "      <td>Youth</td>\n",
       "      <td>13593.541543</td>\n",
       "    </tr>\n",
       "  </tbody>\n",
       "</table>\n",
       "</div>"
      ],
      "text/plain": [
       "   gender Age_Group  claim_amount\n",
       "0  Female     Adult  12741.634800\n",
       "1  Female    Senior  11604.299770\n",
       "2  Female     Youth  11392.482378\n",
       "3    Male     Adult  12035.930923\n",
       "4    Male    Senior  11567.943340\n",
       "5    Male     Youth  13593.541543"
      ]
     },
     "execution_count": 51,
     "metadata": {},
     "output_type": "execute_result"
    }
   ],
   "source": [
    "non_fraud_claims = df[df.fraudulent == 'No'].groupby(['gender','Age_Group'])['claim_amount'].mean().reset_index()\n",
    "non_fraud_claims"
   ]
  },
  {
   "cell_type": "code",
   "execution_count": 52,
   "id": "d41e4f63",
   "metadata": {},
   "outputs": [],
   "source": [
    "Avg_claim_amount=pd.pivot_table(data=df,index=[\"Age_Group\",\"gender\"],columns=['fraudulent'],\n",
    "                                       values='claim_amount',aggfunc='mean')"
   ]
  },
  {
   "cell_type": "code",
   "execution_count": 53,
   "id": "f52b34b4",
   "metadata": {},
   "outputs": [
    {
     "data": {
      "text/html": [
       "<div>\n",
       "<style scoped>\n",
       "    .dataframe tbody tr th:only-of-type {\n",
       "        vertical-align: middle;\n",
       "    }\n",
       "\n",
       "    .dataframe tbody tr th {\n",
       "        vertical-align: top;\n",
       "    }\n",
       "\n",
       "    .dataframe thead th {\n",
       "        text-align: right;\n",
       "    }\n",
       "</style>\n",
       "<table border=\"1\" class=\"dataframe\">\n",
       "  <thead>\n",
       "    <tr style=\"text-align: right;\">\n",
       "      <th></th>\n",
       "      <th>fraudulent</th>\n",
       "      <th>No</th>\n",
       "      <th>Yes</th>\n",
       "    </tr>\n",
       "    <tr>\n",
       "      <th>Age_Group</th>\n",
       "      <th>gender</th>\n",
       "      <th></th>\n",
       "      <th></th>\n",
       "    </tr>\n",
       "  </thead>\n",
       "  <tbody>\n",
       "    <tr>\n",
       "      <th rowspan=\"2\" valign=\"top\">Adult</th>\n",
       "      <th>Female</th>\n",
       "      <td>12741.634800</td>\n",
       "      <td>12807.694313</td>\n",
       "    </tr>\n",
       "    <tr>\n",
       "      <th>Male</th>\n",
       "      <td>12035.930923</td>\n",
       "      <td>15617.515372</td>\n",
       "    </tr>\n",
       "    <tr>\n",
       "      <th rowspan=\"2\" valign=\"top\">Senior</th>\n",
       "      <th>Female</th>\n",
       "      <td>11604.299770</td>\n",
       "      <td>4860.840909</td>\n",
       "    </tr>\n",
       "    <tr>\n",
       "      <th>Male</th>\n",
       "      <td>11567.943340</td>\n",
       "      <td>15424.153846</td>\n",
       "    </tr>\n",
       "    <tr>\n",
       "      <th rowspan=\"2\" valign=\"top\">Youth</th>\n",
       "      <th>Female</th>\n",
       "      <td>11392.482378</td>\n",
       "      <td>9680.356931</td>\n",
       "    </tr>\n",
       "    <tr>\n",
       "      <th>Male</th>\n",
       "      <td>13593.541543</td>\n",
       "      <td>9702.227138</td>\n",
       "    </tr>\n",
       "  </tbody>\n",
       "</table>\n",
       "</div>"
      ],
      "text/plain": [
       "fraudulent                  No           Yes\n",
       "Age_Group gender                            \n",
       "Adult     Female  12741.634800  12807.694313\n",
       "          Male    12035.930923  15617.515372\n",
       "Senior    Female  11604.299770   4860.840909\n",
       "          Male    11567.943340  15424.153846\n",
       "Youth     Female  11392.482378   9680.356931\n",
       "          Male    13593.541543   9702.227138"
      ]
     },
     "execution_count": 53,
     "metadata": {},
     "output_type": "execute_result"
    }
   ],
   "source": [
    "Avg_claim_amount"
   ]
  },
  {
   "cell_type": "code",
   "execution_count": 54,
   "id": "66f39670",
   "metadata": {},
   "outputs": [
    {
     "data": {
      "image/png": "[encoded data removed]",
      "text/plain": [
       "<Figure size 640x480 with 2 Axes>"
      ]
     },
     "metadata": {},
     "output_type": "display_data"
    }
   ],
   "source": [
    "Avg_claim_amount.plot(kind=\"bar\",subplots=True)\n",
    "plt.show()"
   ]
  },
  {
   "cell_type": "markdown",
   "id": "0a6c4a0d",
   "metadata": {},
   "source": [
    "### 16. Is there any similarity in the amount claimed by males and females?"
   ]
  },
  {
   "cell_type": "raw",
   "id": "9e8f7a3b",
   "metadata": {},
   "source": [
    "1. H0 - No relationship \n",
    "   Ha - There is a relationship for the amount claimed by males and females \n",
    "   confidence level - 95%\n",
    "   p critical - 0.05 \n",
    "2. Analysis plan formulation Significance level : We will test our hypothesis at 5% significance level"
   ]
  },
  {
   "cell_type": "code",
   "execution_count": 55,
   "id": "7bf11a21",
   "metadata": {},
   "outputs": [],
   "source": [
    "claims_male = df[\"claim_amount\"].loc[df[\"gender\"]==\"Male\"]\n",
    "claims_female = df[\"claim_amount\"].loc[df[\"gender\"]==\"Female\"]"
   ]
  },
  {
   "cell_type": "code",
   "execution_count": 56,
   "id": "8cfeff46",
   "metadata": {},
   "outputs": [
    {
     "data": {
      "text/plain": [
       "12821.54239372783"
      ]
     },
     "execution_count": 56,
     "metadata": {},
     "output_type": "execute_result"
    }
   ],
   "source": [
    "claims_male.mean()"
   ]
  },
  {
   "cell_type": "code",
   "execution_count": 57,
   "id": "0eaf7b7a",
   "metadata": {},
   "outputs": [
    {
     "data": {
      "text/plain": [
       "12105.597649726487"
      ]
     },
     "execution_count": 57,
     "metadata": {},
     "output_type": "execute_result"
    }
   ],
   "source": [
    "claims_female.mean()"
   ]
  },
  {
   "cell_type": "code",
   "execution_count": 58,
   "id": "83df2383",
   "metadata": {},
   "outputs": [],
   "source": [
    "import scipy.stats as stats"
   ]
  },
  {
   "cell_type": "raw",
   "id": "46eaffe5",
   "metadata": {},
   "source": [
    "Here, we are comparing the means of two independent groups ,so, we choose t test."
   ]
  },
  {
   "cell_type": "code",
   "execution_count": 59,
   "id": "475cf96f",
   "metadata": {},
   "outputs": [],
   "source": [
    "equal_variance = stats.ttest_ind(a= claims_male, b= claims_female,equal_var=True)    "
   ]
  },
  {
   "cell_type": "raw",
   "id": "4ecb8e14",
   "metadata": {},
   "source": [
    "This test is used to compare the means of two independent groups to determine if there is a statistically significant difference between their means."
   ]
  },
  {
   "cell_type": "code",
   "execution_count": 60,
   "id": "919387df",
   "metadata": {},
   "outputs": [
    {
     "data": {
      "text/plain": [
       "0.8848199716864555"
      ]
     },
     "execution_count": 60,
     "metadata": {},
     "output_type": "execute_result"
    }
   ],
   "source": [
    "equal_variance.statistic"
   ]
  },
  {
   "cell_type": "code",
   "execution_count": 61,
   "id": "564e7b12",
   "metadata": {},
   "outputs": [
    {
     "data": {
      "text/plain": [
       "0.8854208549896035"
      ]
     },
     "execution_count": 61,
     "metadata": {},
     "output_type": "execute_result"
    }
   ],
   "source": [
    "unequal_variance = stats.ttest_ind(a= claims_male, b= claims_female, equal_var=False)    \n",
    "unequal_variance.statistic"
   ]
  },
  {
   "cell_type": "code",
   "execution_count": 62,
   "id": "8c551e43",
   "metadata": {},
   "outputs": [
    {
     "data": {
      "text/plain": [
       "0.0006008833031480032"
      ]
     },
     "execution_count": 62,
     "metadata": {},
     "output_type": "execute_result"
    }
   ],
   "source": [
    "unequal_variance.statistic - equal_variance.statistic"
   ]
  },
  {
   "cell_type": "raw",
   "id": "10e0f2b1",
   "metadata": {},
   "source": [
    "the difference between the statistics is small, it suggests that assuming equal variances may be appropriate."
   ]
  },
  {
   "cell_type": "code",
   "execution_count": 63,
   "id": "e91b7121",
   "metadata": {},
   "outputs": [
    {
     "data": {
      "text/plain": [
       "0.37645013430168395"
      ]
     },
     "execution_count": 63,
     "metadata": {},
     "output_type": "execute_result"
    }
   ],
   "source": [
    "# so, we calculate p value with equal_variance\n",
    "p_value = equal_variance.pvalue\n",
    "p_value"
   ]
  },
  {
   "cell_type": "code",
   "execution_count": 64,
   "id": "26345ad9",
   "metadata": {},
   "outputs": [
    {
     "name": "stdout",
     "output_type": "stream",
     "text": [
      "we fail to reject the null hypothesis.There is no relationship between the two\n"
     ]
    }
   ],
   "source": [
    "if (p_value > 0.05):\n",
    "    print(\"we fail to reject the null hypothesis.There is no relationship between the two\")\n",
    "else:\n",
    "    print(\"we accept the null hypothesis.There is some relationship between the two\")"
   ]
  },
  {
   "cell_type": "raw",
   "id": "487525bb",
   "metadata": {},
   "source": [
    "From above calculations, we came to know tht p value is greater than 0.05, therefore, there is no relationship between amount claimed by males and females \n"
   ]
  },
  {
   "cell_type": "markdown",
   "id": "a1d66dd4",
   "metadata": {},
   "source": [
    "### 17. Is there any relationship between age category and segment?"
   ]
  },
  {
   "cell_type": "code",
   "execution_count": 65,
   "id": "9fce6f12",
   "metadata": {},
   "outputs": [],
   "source": [
    "age_segment = pd.crosstab(df['Age_Group'],df['Segment'],margins=True)"
   ]
  },
  {
   "cell_type": "code",
   "execution_count": 66,
   "id": "c8b1f225",
   "metadata": {},
   "outputs": [
    {
     "data": {
      "text/html": [
       "<div>\n",
       "<style scoped>\n",
       "    .dataframe tbody tr th:only-of-type {\n",
       "        vertical-align: middle;\n",
       "    }\n",
       "\n",
       "    .dataframe tbody tr th {\n",
       "        vertical-align: top;\n",
       "    }\n",
       "\n",
       "    .dataframe thead th {\n",
       "        text-align: right;\n",
       "    }\n",
       "</style>\n",
       "<table border=\"1\" class=\"dataframe\">\n",
       "  <thead>\n",
       "    <tr style=\"text-align: right;\">\n",
       "      <th>Segment</th>\n",
       "      <th>Gold</th>\n",
       "      <th>Platinum</th>\n",
       "      <th>Silver</th>\n",
       "      <th>All</th>\n",
       "    </tr>\n",
       "    <tr>\n",
       "      <th>Age_Group</th>\n",
       "      <th></th>\n",
       "      <th></th>\n",
       "      <th></th>\n",
       "      <th></th>\n",
       "    </tr>\n",
       "  </thead>\n",
       "  <tbody>\n",
       "    <tr>\n",
       "      <th>Adult</th>\n",
       "      <td>279</td>\n",
       "      <td>273</td>\n",
       "      <td>258</td>\n",
       "      <td>810</td>\n",
       "    </tr>\n",
       "    <tr>\n",
       "      <th>Senior</th>\n",
       "      <td>45</td>\n",
       "      <td>47</td>\n",
       "      <td>41</td>\n",
       "      <td>133</td>\n",
       "    </tr>\n",
       "    <tr>\n",
       "      <th>Youth</th>\n",
       "      <td>48</td>\n",
       "      <td>44</td>\n",
       "      <td>50</td>\n",
       "      <td>142</td>\n",
       "    </tr>\n",
       "    <tr>\n",
       "      <th>All</th>\n",
       "      <td>372</td>\n",
       "      <td>364</td>\n",
       "      <td>349</td>\n",
       "      <td>1085</td>\n",
       "    </tr>\n",
       "  </tbody>\n",
       "</table>\n",
       "</div>"
      ],
      "text/plain": [
       "Segment    Gold  Platinum  Silver   All\n",
       "Age_Group                              \n",
       "Adult       279       273     258   810\n",
       "Senior       45        47      41   133\n",
       "Youth        48        44      50   142\n",
       "All         372       364     349  1085"
      ]
     },
     "execution_count": 66,
     "metadata": {},
     "output_type": "execute_result"
    }
   ],
   "source": [
    "age_segment"
   ]
  },
  {
   "cell_type": "raw",
   "id": "9393d7bb",
   "metadata": {},
   "source": [
    "Both the columns are categorical ,so, we use the chi-test to check the relationship between the twor"
   ]
  },
  {
   "cell_type": "code",
   "execution_count": 67,
   "id": "355345cb",
   "metadata": {},
   "outputs": [
    {
     "data": {
      "text/plain": [
       "Chi2ContingencyResult(statistic=0.9426515410041357, pvalue=0.999558688350939, dof=9, expected_freq=array([[ 277.71428571,  271.74193548,  260.5437788 ,  810.        ],\n",
       "       [  45.6       ,   44.61935484,   42.78064516,  133.        ],\n",
       "       [  48.68571429,   47.63870968,   45.67557604,  142.        ],\n",
       "       [ 372.        ,  364.        ,  349.        , 1085.        ]]))"
      ]
     },
     "execution_count": 67,
     "metadata": {},
     "output_type": "execute_result"
    }
   ],
   "source": [
    "chi_test=stats.chi2_contingency(observed= age_segment)\n",
    "chi_test"
   ]
  },
  {
   "cell_type": "code",
   "execution_count": 68,
   "id": "64774c9b",
   "metadata": {},
   "outputs": [
    {
     "data": {
      "text/plain": [
       "0.999558688350939"
      ]
     },
     "execution_count": 68,
     "metadata": {},
     "output_type": "execute_result"
    }
   ],
   "source": [
    "chi_test.pvalue"
   ]
  },
  {
   "cell_type": "code",
   "execution_count": 69,
   "id": "13014b9d",
   "metadata": {},
   "outputs": [
    {
     "data": {
      "text/plain": [
       "0.9426515410041357"
      ]
     },
     "execution_count": 69,
     "metadata": {},
     "output_type": "execute_result"
    }
   ],
   "source": [
    "chi_test.statistic"
   ]
  },
  {
   "cell_type": "code",
   "execution_count": 70,
   "id": "b4194cfe",
   "metadata": {},
   "outputs": [],
   "source": [
    "#p value is greater than 0.05, we accept the null hypothesis. \n",
    "#Therefore there is no relationship between age category and segment"
   ]
  },
  {
   "cell_type": "code",
   "execution_count": 71,
   "id": "9b976cb2",
   "metadata": {},
   "outputs": [
    {
     "data": {
      "text/plain": [
       "True"
      ]
     },
     "execution_count": 71,
     "metadata": {},
     "output_type": "execute_result"
    }
   ],
   "source": [
    "chi_test.pvalue > 0.05"
   ]
  },
  {
   "cell_type": "markdown",
   "id": "44289f12",
   "metadata": {},
   "source": [
    "### 18. The current year has shown a significant rise in claim amounts as compared to 2016-17 fiscal average which was $10,000."
   ]
  },
  {
   "cell_type": "code",
   "execution_count": 72,
   "id": "b5530e37",
   "metadata": {},
   "outputs": [
    {
     "data": {
      "text/html": [
       "<div>\n",
       "<style scoped>\n",
       "    .dataframe tbody tr th:only-of-type {\n",
       "        vertical-align: middle;\n",
       "    }\n",
       "\n",
       "    .dataframe tbody tr th {\n",
       "        vertical-align: top;\n",
       "    }\n",
       "\n",
       "    .dataframe thead th {\n",
       "        text-align: right;\n",
       "    }\n",
       "</style>\n",
       "<table border=\"1\" class=\"dataframe\">\n",
       "  <thead>\n",
       "    <tr style=\"text-align: right;\">\n",
       "      <th></th>\n",
       "      <th>gender</th>\n",
       "      <th>DateOfBirth</th>\n",
       "      <th>State</th>\n",
       "      <th>Contact</th>\n",
       "      <th>Segment</th>\n",
       "      <th>claim_id</th>\n",
       "      <th>incident_cause</th>\n",
       "      <th>claim_date</th>\n",
       "      <th>claim_area</th>\n",
       "      <th>police_report</th>\n",
       "      <th>claim_type</th>\n",
       "      <th>claim_amount</th>\n",
       "      <th>total_policy_claims</th>\n",
       "      <th>fraudulent</th>\n",
       "      <th>alert_flag</th>\n",
       "      <th>Birth_Year</th>\n",
       "      <th>Age</th>\n",
       "      <th>Age_Group</th>\n",
       "      <th>claim_month</th>\n",
       "    </tr>\n",
       "  </thead>\n",
       "  <tbody>\n",
       "    <tr>\n",
       "      <th>0</th>\n",
       "      <td>Female</td>\n",
       "      <td>1978</td>\n",
       "      <td>DE</td>\n",
       "      <td>9.628791e+09</td>\n",
       "      <td>Platinum</td>\n",
       "      <td>69348631.0</td>\n",
       "      <td>Driver error</td>\n",
       "      <td>2018-04-10</td>\n",
       "      <td>Auto</td>\n",
       "      <td>No</td>\n",
       "      <td>Injury only</td>\n",
       "      <td>12470.498519</td>\n",
       "      <td>1.0</td>\n",
       "      <td>Yes</td>\n",
       "      <td>0</td>\n",
       "      <td>1978</td>\n",
       "      <td>46</td>\n",
       "      <td>Adult</td>\n",
       "      <td>4.0</td>\n",
       "    </tr>\n",
       "    <tr>\n",
       "      <th>1</th>\n",
       "      <td>Male</td>\n",
       "      <td>1972</td>\n",
       "      <td>TX</td>\n",
       "      <td>1.738926e+09</td>\n",
       "      <td>Silver</td>\n",
       "      <td>40953049.0</td>\n",
       "      <td>Other causes</td>\n",
       "      <td>2018-04-04</td>\n",
       "      <td>Auto</td>\n",
       "      <td>No</td>\n",
       "      <td>Material and injury</td>\n",
       "      <td>39192.000000</td>\n",
       "      <td>1.0</td>\n",
       "      <td>Yes</td>\n",
       "      <td>0</td>\n",
       "      <td>1972</td>\n",
       "      <td>52</td>\n",
       "      <td>Adult</td>\n",
       "      <td>4.0</td>\n",
       "    </tr>\n",
       "  </tbody>\n",
       "</table>\n",
       "</div>"
      ],
      "text/plain": [
       "   gender  DateOfBirth State       Contact   Segment    claim_id  \\\n",
       "0  Female         1978    DE  9.628791e+09  Platinum  69348631.0   \n",
       "1    Male         1972    TX  1.738926e+09    Silver  40953049.0   \n",
       "\n",
       "  incident_cause claim_date claim_area police_report           claim_type  \\\n",
       "0   Driver error 2018-04-10       Auto            No          Injury only   \n",
       "1   Other causes 2018-04-04       Auto            No  Material and injury   \n",
       "\n",
       "   claim_amount  total_policy_claims fraudulent  alert_flag  Birth_Year  Age  \\\n",
       "0  12470.498519                  1.0        Yes           0        1978   46   \n",
       "1  39192.000000                  1.0        Yes           0        1972   52   \n",
       "\n",
       "  Age_Group  claim_month  \n",
       "0     Adult          4.0  \n",
       "1     Adult          4.0  "
      ]
     },
     "execution_count": 72,
     "metadata": {},
     "output_type": "execute_result"
    }
   ],
   "source": [
    "df.head(2)"
   ]
  },
  {
   "cell_type": "code",
   "execution_count": 73,
   "id": "906dc039",
   "metadata": {},
   "outputs": [],
   "source": [
    "df['claim_year']=df['claim_date'].dt.year"
   ]
  },
  {
   "cell_type": "code",
   "execution_count": 74,
   "id": "c2506b6f",
   "metadata": {},
   "outputs": [
    {
     "data": {
      "text/plain": [
       "claim_year\n",
       "2017.0    597\n",
       "2018.0    481\n",
       "Name: count, dtype: int64"
      ]
     },
     "execution_count": 74,
     "metadata": {},
     "output_type": "execute_result"
    }
   ],
   "source": [
    "df['claim_year'].value_counts()"
   ]
  },
  {
   "cell_type": "code",
   "execution_count": 75,
   "id": "b967cec7",
   "metadata": {},
   "outputs": [
    {
     "data": {
      "text/html": [
       "<div>\n",
       "<style scoped>\n",
       "    .dataframe tbody tr th:only-of-type {\n",
       "        vertical-align: middle;\n",
       "    }\n",
       "\n",
       "    .dataframe tbody tr th {\n",
       "        vertical-align: top;\n",
       "    }\n",
       "\n",
       "    .dataframe thead th {\n",
       "        text-align: right;\n",
       "    }\n",
       "</style>\n",
       "<table border=\"1\" class=\"dataframe\">\n",
       "  <thead>\n",
       "    <tr style=\"text-align: right;\">\n",
       "      <th></th>\n",
       "      <th>claim_year</th>\n",
       "      <th>claim_amount</th>\n",
       "    </tr>\n",
       "  </thead>\n",
       "  <tbody>\n",
       "    <tr>\n",
       "      <th>0</th>\n",
       "      <td>2017.0</td>\n",
       "      <td>12295.850007</td>\n",
       "    </tr>\n",
       "    <tr>\n",
       "      <th>1</th>\n",
       "      <td>2018.0</td>\n",
       "      <td>12687.266008</td>\n",
       "    </tr>\n",
       "  </tbody>\n",
       "</table>\n",
       "</div>"
      ],
      "text/plain": [
       "   claim_year  claim_amount\n",
       "0      2017.0  12295.850007\n",
       "1      2018.0  12687.266008"
      ]
     },
     "execution_count": 75,
     "metadata": {},
     "output_type": "execute_result"
    }
   ],
   "source": [
    "df.groupby('claim_year')['claim_amount'].mean().reset_index()"
   ]
  },
  {
   "cell_type": "code",
   "execution_count": 76,
   "id": "a03cffc6",
   "metadata": {
    "scrolled": true
   },
   "outputs": [],
   "source": [
    "claim_2017 = df.claim_amount[df.claim_year==2017]\n",
    "claim_2018 = df.claim_amount[df.claim_year==2018]"
   ]
  },
  {
   "cell_type": "code",
   "execution_count": 77,
   "id": "a1522a94",
   "metadata": {},
   "outputs": [
    {
     "data": {
      "text/plain": [
       "2        1621.5\n",
       "7       21190.0\n",
       "8        2490.0\n",
       "10      25010.0\n",
       "11      30540.0\n",
       "         ...   \n",
       "1072     1550.0\n",
       "1073     2840.0\n",
       "1074     2370.0\n",
       "1079     2260.0\n",
       "1083     2415.0\n",
       "Name: claim_amount, Length: 597, dtype: float64"
      ]
     },
     "execution_count": 77,
     "metadata": {},
     "output_type": "execute_result"
    }
   ],
   "source": [
    "claim_2017 "
   ]
  },
  {
   "cell_type": "code",
   "execution_count": 78,
   "id": "765d9e11",
   "metadata": {},
   "outputs": [],
   "source": [
    "# perfroming the t test"
   ]
  },
  {
   "cell_type": "code",
   "execution_count": 79,
   "id": "1d34ea94",
   "metadata": {},
   "outputs": [
    {
     "data": {
      "text/plain": [
       "TtestResult(statistic=-0.4777952749526742, pvalue=0.6328929702726953, df=1076.0)"
      ]
     },
     "execution_count": 79,
     "metadata": {},
     "output_type": "execute_result"
    }
   ],
   "source": [
    "stats.ttest_ind(claim_2017 ,claim_2018)"
   ]
  },
  {
   "cell_type": "raw",
   "id": "9ca7a304",
   "metadata": {},
   "source": [
    "Based on the p-value being greater than 0.05, we fail to reject the null hypothesis. Therefore, there is no statistically significant evidence to support the claim that the current year has shown a significant rise in claim amounts compared to the $10,000 average from the fiscal years 2016-17."
   ]
  },
  {
   "cell_type": "markdown",
   "id": "7bd58241",
   "metadata": {},
   "source": [
    "### 19. Is there any difference between age groups and insurance claims?"
   ]
  },
  {
   "cell_type": "raw",
   "id": "ff7ccf2e",
   "metadata": {},
   "source": [
    "H0 : No difference between age groups and insurance claims \n",
    "\n",
    "Ha : There is some difference between age groups and insurance claims "
   ]
  },
  {
   "cell_type": "code",
   "execution_count": 80,
   "id": "36eca7a4",
   "metadata": {},
   "outputs": [],
   "source": [
    "#converting age-group into categorical variable"
   ]
  },
  {
   "cell_type": "code",
   "execution_count": 81,
   "id": "e2d50be3",
   "metadata": {},
   "outputs": [],
   "source": [
    "df['Age_Group_cate'] = np.where((df.Age.astype(int)<18),1,np.where(((df.Age.astype(int)>18) & (df.Age.astype(int)<30)),2,\n",
    "                                                    np.where(((df.Age.astype(int)>=30) & (df.Age.astype(int)<60)),3,4)))"
   ]
  },
  {
   "cell_type": "code",
   "execution_count": 82,
   "id": "f5d1ea52",
   "metadata": {},
   "outputs": [
    {
     "data": {
      "text/html": [
       "<div>\n",
       "<style scoped>\n",
       "    .dataframe tbody tr th:only-of-type {\n",
       "        vertical-align: middle;\n",
       "    }\n",
       "\n",
       "    .dataframe tbody tr th {\n",
       "        vertical-align: top;\n",
       "    }\n",
       "\n",
       "    .dataframe thead th {\n",
       "        text-align: right;\n",
       "    }\n",
       "</style>\n",
       "<table border=\"1\" class=\"dataframe\">\n",
       "  <thead>\n",
       "    <tr style=\"text-align: right;\">\n",
       "      <th></th>\n",
       "      <th>gender</th>\n",
       "      <th>DateOfBirth</th>\n",
       "      <th>State</th>\n",
       "      <th>Contact</th>\n",
       "      <th>Segment</th>\n",
       "      <th>claim_id</th>\n",
       "      <th>incident_cause</th>\n",
       "      <th>claim_date</th>\n",
       "      <th>claim_area</th>\n",
       "      <th>police_report</th>\n",
       "      <th>...</th>\n",
       "      <th>claim_amount</th>\n",
       "      <th>total_policy_claims</th>\n",
       "      <th>fraudulent</th>\n",
       "      <th>alert_flag</th>\n",
       "      <th>Birth_Year</th>\n",
       "      <th>Age</th>\n",
       "      <th>Age_Group</th>\n",
       "      <th>claim_month</th>\n",
       "      <th>claim_year</th>\n",
       "      <th>Age_Group_cate</th>\n",
       "    </tr>\n",
       "  </thead>\n",
       "  <tbody>\n",
       "    <tr>\n",
       "      <th>0</th>\n",
       "      <td>Female</td>\n",
       "      <td>1978</td>\n",
       "      <td>DE</td>\n",
       "      <td>9.628791e+09</td>\n",
       "      <td>Platinum</td>\n",
       "      <td>69348631.0</td>\n",
       "      <td>Driver error</td>\n",
       "      <td>2018-04-10</td>\n",
       "      <td>Auto</td>\n",
       "      <td>No</td>\n",
       "      <td>...</td>\n",
       "      <td>12470.498519</td>\n",
       "      <td>1.0</td>\n",
       "      <td>Yes</td>\n",
       "      <td>0</td>\n",
       "      <td>1978</td>\n",
       "      <td>46</td>\n",
       "      <td>Adult</td>\n",
       "      <td>4.0</td>\n",
       "      <td>2018.0</td>\n",
       "      <td>3</td>\n",
       "    </tr>\n",
       "    <tr>\n",
       "      <th>1</th>\n",
       "      <td>Male</td>\n",
       "      <td>1972</td>\n",
       "      <td>TX</td>\n",
       "      <td>1.738926e+09</td>\n",
       "      <td>Silver</td>\n",
       "      <td>40953049.0</td>\n",
       "      <td>Other causes</td>\n",
       "      <td>2018-04-04</td>\n",
       "      <td>Auto</td>\n",
       "      <td>No</td>\n",
       "      <td>...</td>\n",
       "      <td>39192.000000</td>\n",
       "      <td>1.0</td>\n",
       "      <td>Yes</td>\n",
       "      <td>0</td>\n",
       "      <td>1972</td>\n",
       "      <td>52</td>\n",
       "      <td>Adult</td>\n",
       "      <td>4.0</td>\n",
       "      <td>2018.0</td>\n",
       "      <td>3</td>\n",
       "    </tr>\n",
       "  </tbody>\n",
       "</table>\n",
       "<p>2 rows × 21 columns</p>\n",
       "</div>"
      ],
      "text/plain": [
       "   gender  DateOfBirth State       Contact   Segment    claim_id  \\\n",
       "0  Female         1978    DE  9.628791e+09  Platinum  69348631.0   \n",
       "1    Male         1972    TX  1.738926e+09    Silver  40953049.0   \n",
       "\n",
       "  incident_cause claim_date claim_area police_report  ...  claim_amount  \\\n",
       "0   Driver error 2018-04-10       Auto            No  ...  12470.498519   \n",
       "1   Other causes 2018-04-04       Auto            No  ...  39192.000000   \n",
       "\n",
       "   total_policy_claims  fraudulent alert_flag  Birth_Year  Age  Age_Group  \\\n",
       "0                  1.0         Yes          0        1978   46      Adult   \n",
       "1                  1.0         Yes          0        1972   52      Adult   \n",
       "\n",
       "  claim_month  claim_year  Age_Group_cate  \n",
       "0         4.0      2018.0               3  \n",
       "1         4.0      2018.0               3  \n",
       "\n",
       "[2 rows x 21 columns]"
      ]
     },
     "execution_count": 82,
     "metadata": {},
     "output_type": "execute_result"
    }
   ],
   "source": [
    "df.head(2)"
   ]
  },
  {
   "cell_type": "code",
   "execution_count": 83,
   "id": "8a70f6ee",
   "metadata": {},
   "outputs": [
    {
     "data": {
      "text/plain": [
       "total_policy_claims\n",
       "1.000000    781\n",
       "2.000000    104\n",
       "3.000000     86\n",
       "4.000000     58\n",
       "5.000000     27\n",
       "1.582397     17\n",
       "6.000000      9\n",
       "7.000000      2\n",
       "8.000000      1\n",
       "Name: count, dtype: int64"
      ]
     },
     "execution_count": 83,
     "metadata": {},
     "output_type": "execute_result"
    }
   ],
   "source": [
    "df['total_policy_claims'].value_counts()"
   ]
  },
  {
   "cell_type": "code",
   "execution_count": 84,
   "id": "238b8a55",
   "metadata": {},
   "outputs": [
    {
     "data": {
      "text/html": [
       "<div>\n",
       "<style scoped>\n",
       "    .dataframe tbody tr th:only-of-type {\n",
       "        vertical-align: middle;\n",
       "    }\n",
       "\n",
       "    .dataframe tbody tr th {\n",
       "        vertical-align: top;\n",
       "    }\n",
       "\n",
       "    .dataframe thead th {\n",
       "        text-align: right;\n",
       "    }\n",
       "</style>\n",
       "<table border=\"1\" class=\"dataframe\">\n",
       "  <thead>\n",
       "    <tr style=\"text-align: right;\">\n",
       "      <th>total_policy_claims</th>\n",
       "      <th>1.0</th>\n",
       "      <th>1.5823970037453183</th>\n",
       "      <th>2.0</th>\n",
       "      <th>3.0</th>\n",
       "      <th>4.0</th>\n",
       "      <th>5.0</th>\n",
       "      <th>6.0</th>\n",
       "      <th>7.0</th>\n",
       "      <th>8.0</th>\n",
       "      <th>All</th>\n",
       "    </tr>\n",
       "    <tr>\n",
       "      <th>Age_Group_cate</th>\n",
       "      <th></th>\n",
       "      <th></th>\n",
       "      <th></th>\n",
       "      <th></th>\n",
       "      <th></th>\n",
       "      <th></th>\n",
       "      <th></th>\n",
       "      <th></th>\n",
       "      <th></th>\n",
       "      <th></th>\n",
       "    </tr>\n",
       "  </thead>\n",
       "  <tbody>\n",
       "    <tr>\n",
       "      <th>2</th>\n",
       "      <td>99</td>\n",
       "      <td>3</td>\n",
       "      <td>13</td>\n",
       "      <td>11</td>\n",
       "      <td>9</td>\n",
       "      <td>6</td>\n",
       "      <td>0</td>\n",
       "      <td>0</td>\n",
       "      <td>1</td>\n",
       "      <td>142</td>\n",
       "    </tr>\n",
       "    <tr>\n",
       "      <th>3</th>\n",
       "      <td>585</td>\n",
       "      <td>12</td>\n",
       "      <td>81</td>\n",
       "      <td>66</td>\n",
       "      <td>38</td>\n",
       "      <td>17</td>\n",
       "      <td>9</td>\n",
       "      <td>2</td>\n",
       "      <td>0</td>\n",
       "      <td>810</td>\n",
       "    </tr>\n",
       "    <tr>\n",
       "      <th>4</th>\n",
       "      <td>97</td>\n",
       "      <td>2</td>\n",
       "      <td>10</td>\n",
       "      <td>9</td>\n",
       "      <td>11</td>\n",
       "      <td>4</td>\n",
       "      <td>0</td>\n",
       "      <td>0</td>\n",
       "      <td>0</td>\n",
       "      <td>133</td>\n",
       "    </tr>\n",
       "    <tr>\n",
       "      <th>All</th>\n",
       "      <td>781</td>\n",
       "      <td>17</td>\n",
       "      <td>104</td>\n",
       "      <td>86</td>\n",
       "      <td>58</td>\n",
       "      <td>27</td>\n",
       "      <td>9</td>\n",
       "      <td>2</td>\n",
       "      <td>1</td>\n",
       "      <td>1085</td>\n",
       "    </tr>\n",
       "  </tbody>\n",
       "</table>\n",
       "</div>"
      ],
      "text/plain": [
       "total_policy_claims  1.0  1.5823970037453183  2.0  3.0  4.0  5.0  6.0  7.0  \\\n",
       "Age_Group_cate                                                               \n",
       "2                     99                   3   13   11    9    6    0    0   \n",
       "3                    585                  12   81   66   38   17    9    2   \n",
       "4                     97                   2   10    9   11    4    0    0   \n",
       "All                  781                  17  104   86   58   27    9    2   \n",
       "\n",
       "total_policy_claims  8.0   All  \n",
       "Age_Group_cate                  \n",
       "2                      1   142  \n",
       "3                      0   810  \n",
       "4                      0   133  \n",
       "All                    1  1085  "
      ]
     },
     "execution_count": 84,
     "metadata": {},
     "output_type": "execute_result"
    }
   ],
   "source": [
    "ageGrp_claims = pd.crosstab(df['Age_Group_cate'],df['total_policy_claims'],margins=True)\n",
    "ageGrp_claims"
   ]
  },
  {
   "cell_type": "code",
   "execution_count": 85,
   "id": "338f5249",
   "metadata": {},
   "outputs": [],
   "source": [
    "#Performing the chi test "
   ]
  },
  {
   "cell_type": "code",
   "execution_count": 86,
   "id": "448cb7f3",
   "metadata": {},
   "outputs": [],
   "source": [
    "observed = stats.chi2_contingency(ageGrp_claims)"
   ]
  },
  {
   "cell_type": "code",
   "execution_count": 87,
   "id": "5f46fe04",
   "metadata": {},
   "outputs": [
    {
     "data": {
      "text/plain": [
       "17.256445644433594"
      ]
     },
     "execution_count": 87,
     "metadata": {},
     "output_type": "execute_result"
    }
   ],
   "source": [
    "observed.statistic"
   ]
  },
  {
   "cell_type": "code",
   "execution_count": 88,
   "id": "241d734d",
   "metadata": {},
   "outputs": [
    {
     "data": {
      "text/plain": [
       "0.9246057815000002"
      ]
     },
     "execution_count": 88,
     "metadata": {},
     "output_type": "execute_result"
    }
   ],
   "source": [
    "observed.pvalue"
   ]
  },
  {
   "cell_type": "raw",
   "id": "86be68c0",
   "metadata": {},
   "source": [
    "Since the p value of the test is greater than 0.05, we fail reject the null hypothesis.\n",
    "Therefore, there is no difference between age groups and insurance claims or No influence of age groups on insurance claims"
   ]
  },
  {
   "cell_type": "markdown",
   "id": "be00cd0f",
   "metadata": {},
   "source": [
    "### 20. Is there any relationship between total number of policy claims and the claimed amount?"
   ]
  },
  {
   "cell_type": "code",
   "execution_count": 89,
   "id": "06dc65ae",
   "metadata": {},
   "outputs": [
    {
     "data": {
      "text/plain": [
       "-0.014291136186627333"
      ]
     },
     "execution_count": 89,
     "metadata": {},
     "output_type": "execute_result"
    }
   ],
   "source": [
    "#checking the corelation betweeon claimed amount and total_policy claims\n",
    "df.total_policy_claims.corr(other=df.claim_amount)"
   ]
  },
  {
   "cell_type": "code",
   "execution_count": 90,
   "id": "f07b046a",
   "metadata": {},
   "outputs": [
    {
     "data": {
      "text/plain": [
       "<seaborn.axisgrid.FacetGrid at 0x16c78f72550>"
      ]
     },
     "execution_count": 90,
     "metadata": {},
     "output_type": "execute_result"
    },
    {
     "data": {
      "image/png": "[encoded data removed]",
      "text/plain": [
       "<Figure size 500x500 with 1 Axes>"
      ]
     },
     "metadata": {},
     "output_type": "display_data"
    }
   ],
   "source": [
    "sns.lmplot(x = \"total_policy_claims\", y = \"claim_amount\",data = df)"
   ]
  },
  {
   "cell_type": "raw",
   "id": "9704a3f7",
   "metadata": {},
   "source": [
    "As the correlation is negative the number of policy claims in inversely propotional to the claimed amount"
   ]
  },
  {
   "cell_type": "code",
   "execution_count": null,
   "id": "f1274bd3",
   "metadata": {},
   "outputs": [],
   "source": []
  }
 ],
 "metadata": {
  "kernelspec": {
   "display_name": "Python 3 (ipykernel)",
   "language": "python",
   "name": "python3"
  },
  "language_info": {
   "codemirror_mode": {
    "name": "ipython",
    "version": 3
   },
   "file_extension": ".py",
   "mimetype": "text/x-python",
   "name": "python",
   "nbconvert_exporter": "python",
   "pygments_lexer": "ipython3",
   "version": "3.11.5"
  }
 },
 "nbformat": 4,
 "nbformat_minor": 5
}
